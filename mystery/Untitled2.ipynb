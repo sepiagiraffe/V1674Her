{
 "cells": [
  {
   "cell_type": "code",
   "execution_count": 1,
   "id": "130314c3-c271-48b2-96f5-515aca32fbd9",
   "metadata": {},
   "outputs": [],
   "source": [
    "import numpy as np\n",
    "import pandas as pd"
   ]
  },
  {
   "cell_type": "code",
   "execution_count": 3,
   "id": "de8d20cc-8382-4690-a632-db857207e765",
   "metadata": {},
   "outputs": [],
   "source": [
    "gaia = pd.read_csv('1688075645690O-result.csv', delimiter=',');"
   ]
  },
  {
   "cell_type": "code",
   "execution_count": 15,
   "id": "386d79f1-8e79-4741-be3b-8d0f0a2af446",
   "metadata": {},
   "outputs": [
    {
     "data": {
      "text/plain": [
       "{'source_id': 4514092717838547584,\n",
       " 'ref_epoch': 2016.0,\n",
       " 'ra': 284.3790776718161,\n",
       " 'ra_error': 0.61536866,\n",
       " 'dec': 16.894309649606146,\n",
       " 'dec_error': 0.84251714,\n",
       " 'parallax': -0.9362833593091684,\n",
       " 'parallax_error': 0.6273195,\n",
       " 'pm': 6.2374563,\n",
       " 'pmra': -4.128921311385382,\n",
       " 'pmra_error': 0.7046184,\n",
       " 'pmdec': -4.675240191693119,\n",
       " 'pmdec_error': 0.8918012,\n",
       " 'ra_dec_corr': 0.3931595,\n",
       " 'ruwe': 1.0289086,\n",
       " 'phot_g_mean_mag': 19.949957,\n",
       " 'bp_rp': nan,\n",
       " 'radial_velocity': nan,\n",
       " 'phot_variable_flag': 'NOT_AVAILABLE',\n",
       " 'non_single_star': 0,\n",
       " 'has_xp_continuous': False,\n",
       " 'has_xp_sampled': False,\n",
       " 'has_rvs': False,\n",
       " 'has_epoch_photometry': False,\n",
       " 'has_epoch_rv': False,\n",
       " 'has_mcmc_gspphot': False,\n",
       " 'has_mcmc_msc': False,\n",
       " 'teff_gspphot': nan,\n",
       " 'logg_gspphot': nan,\n",
       " 'mh_gspphot': nan,\n",
       " 'distance_gspphot': nan,\n",
       " 'azero_gspphot': nan,\n",
       " 'ag_gspphot': nan,\n",
       " 'ebpminrp_gspphot': nan}"
      ]
     },
     "execution_count": 15,
     "metadata": {},
     "output_type": "execute_result"
    }
   ],
   "source": [
    "v1674her = gaia.iloc[3]\n",
    "v1674her.to_dict()"
   ]
  },
  {
   "cell_type": "code",
   "execution_count": null,
   "id": "fe0032e3-89de-4ad1-ba9b-de856f418d4e",
   "metadata": {},
   "outputs": [],
   "source": []
  }
 ],
 "metadata": {
  "kernelspec": {
   "display_name": "Python 3 (ipykernel)",
   "language": "python",
   "name": "python3"
  },
  "language_info": {
   "codemirror_mode": {
    "name": "ipython",
    "version": 3
   },
   "file_extension": ".py",
   "mimetype": "text/x-python",
   "name": "python",
   "nbconvert_exporter": "python",
   "pygments_lexer": "ipython3",
   "version": "3.11.0"
  }
 },
 "nbformat": 4,
 "nbformat_minor": 5
}

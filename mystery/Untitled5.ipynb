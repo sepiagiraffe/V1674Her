{
 "cells": [
  {
   "cell_type": "code",
   "execution_count": 4,
   "id": "a4b635da-f314-4cec-93e2-31fedf6277c0",
   "metadata": {},
   "outputs": [],
   "source": [
    "import astropy\n",
    "from astropy.wcs import WCS\n",
    "from astropy import wcs\n",
    "from astropy.io import fits, ascii\n",
    "from astropy.coordinates import Angle, SkyCoord\n",
    "from astropy import units as un"
   ]
  },
  {
   "cell_type": "code",
   "execution_count": 17,
   "id": "0b6ab0d7-577a-41ff-bdc3-2297389b90c1",
   "metadata": {},
   "outputs": [],
   "source": [
    "SkyCoord(284.3790727910, 16.8943022807, unit=(un.degree, un.degree), \n",
    "                obstime=\"J2000\", frame='fk5');\n",
    "V1674HER_pip = SkyCoord('18:57:30.977917', '16:53:39.49435', unit=(un.hourangle, un.deg), frame='fk5');\n",
    "V1674HER_dif = SkyCoord('18:57:30.977', '16:53:39.499', unit=(un.hourangle, un.deg), frame='fk5');\n",
    "V1674HER_man = SkyCoord('18:57:30.979', '16:53:39.535', unit=(un.hourangle, un.deg), frame='fk5');"
   ]
  },
  {
   "cell_type": "code",
   "execution_count": 19,
   "id": "27aa7330-e882-4a51-8f69-05c4ed78f94c",
   "metadata": {},
   "outputs": [
    {
     "data": {
      "text/plain": [
       "46.04337878115014"
      ]
     },
     "execution_count": 19,
     "metadata": {},
     "output_type": "execute_result"
    }
   ],
   "source": [
    "V1674HER_dif.separation(V1674HER_man).mas"
   ]
  },
  {
   "cell_type": "code",
   "execution_count": null,
   "id": "af9ae31c-84bf-49db-a525-cff2dcec1418",
   "metadata": {},
   "outputs": [],
   "source": []
  }
 ],
 "metadata": {
  "kernelspec": {
   "display_name": "Python 3 (ipykernel)",
   "language": "python",
   "name": "python3"
  },
  "language_info": {
   "codemirror_mode": {
    "name": "ipython",
    "version": 3
   },
   "file_extension": ".py",
   "mimetype": "text/x-python",
   "name": "python",
   "nbconvert_exporter": "python",
   "pygments_lexer": "ipython3",
   "version": "3.11.0"
  }
 },
 "nbformat": 4,
 "nbformat_minor": 5
}

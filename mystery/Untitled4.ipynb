{
 "cells": [
  {
   "cell_type": "code",
   "execution_count": null,
   "id": "b5865a06-771f-4098-a39b-77d6d7d59da4",
   "metadata": {},
   "outputs": [],
   "source": [
    "import os\n",
    "\n",
    "print(\"installing pre-requisite packages...\")\n",
    "os.system(\"apt-get install libgfortran3\")\n",
    "\n",
    "print(\"installing casatools...\")\n",
    "os.system(\"pip install --index-url https://casa-pip.nrao.edu/repository/pypi-casa-release/simple casatools==6.0.0.27\")\n",
    "os.system(\"pip install --index-url https://casa-pip.nrao.edu/repository/pypi-casa-release/simple casatasks==6.0.0.27\")\n",
    "\n",
    "print(\"downloading MeasurementSet from CASAguide First Look at Imaging...\")\n",
    "os.system(\"wget https://bulk.cv.nrao.edu/almadata/public/working/sis14_twhya_calibrated_flagged.ms.tar\")\n",
    "os.system(\"tar -xvf sis14_twhya_calibrated_flagged.ms.tar\")\n",
    "\n",
    "print(\"building config files...\")\n",
    "os.system(\"mkdir ~/.casa\")\n",
    "!echo home, datapath = \\'/content/\\', [\\'/content/\\'] > ~/.casa/toolrc.py\n",
    "!more /root/.casa/toolrc.py\n",
    "\n",
    "print('complete')"
   ]
  }
 ],
 "metadata": {
  "kernelspec": {
   "display_name": "Python 3 (ipykernel)",
   "language": "python",
   "name": "python3"
  },
  "language_info": {
   "codemirror_mode": {
    "name": "ipython",
    "version": 3
   },
   "file_extension": ".py",
   "mimetype": "text/x-python",
   "name": "python",
   "nbconvert_exporter": "python",
   "pygments_lexer": "ipython3",
   "version": "3.11.0"
  }
 },
 "nbformat": 4,
 "nbformat_minor": 5
}

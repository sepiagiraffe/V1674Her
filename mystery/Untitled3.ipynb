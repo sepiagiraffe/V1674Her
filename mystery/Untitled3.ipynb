{
 "cells": [
  {
   "cell_type": "code",
   "execution_count": 2,
   "id": "b0231a8f-f340-4273-a546-b5389c171891",
   "metadata": {},
   "outputs": [],
   "source": [
    "import pandas as pd"
   ]
  },
  {
   "cell_type": "code",
   "execution_count": 13,
   "id": "abee481e-a74b-4197-a9da-ed0d91016df9",
   "metadata": {},
   "outputs": [],
   "source": [
    "aips_df = pd.read_csv('v1674herd_imfit.txt', delimiter='\\s\\s+', engine='python', header=[0,1]);"
   ]
  },
  {
   "cell_type": "code",
   "execution_count": 14,
   "id": "22062c62-f7e5-45ff-b3f4-98ed766c1e0d",
   "metadata": {},
   "outputs": [
    {
     "data": {
      "text/html": [
       "<div>\n",
       "<style scoped>\n",
       "    .dataframe tbody tr th:only-of-type {\n",
       "        vertical-align: middle;\n",
       "    }\n",
       "\n",
       "    .dataframe tbody tr th {\n",
       "        vertical-align: top;\n",
       "    }\n",
       "\n",
       "    .dataframe thead tr th {\n",
       "        text-align: left;\n",
       "    }\n",
       "</style>\n",
       "<table border=\"1\" class=\"dataframe\">\n",
       "  <thead>\n",
       "    <tr>\n",
       "      <th></th>\n",
       "      <th>Row #</th>\n",
       "      <th>Peak int</th>\n",
       "      <th>Tot int</th>\n",
       "      <th>Right Ascension</th>\n",
       "      <th>Declination</th>\n",
       "      <th>Maj axis</th>\n",
       "      <th>Min axis</th>\n",
       "      <th>Pos angle</th>\n",
       "      <th>Decon maj</th>\n",
       "      <th>Decon min</th>\n",
       "      <th>Decon PA</th>\n",
       "    </tr>\n",
       "    <tr>\n",
       "      <th></th>\n",
       "      <th>#</th>\n",
       "      <th>uJy/beam</th>\n",
       "      <th>uJy</th>\n",
       "      <th>hms</th>\n",
       "      <th>dms</th>\n",
       "      <th>mas</th>\n",
       "      <th>mas</th>\n",
       "      <th>degrees</th>\n",
       "      <th>mas</th>\n",
       "      <th>mas</th>\n",
       "      <th>degrees</th>\n",
       "    </tr>\n",
       "  </thead>\n",
       "  <tbody>\n",
       "    <tr>\n",
       "      <th>0</th>\n",
       "      <td>1</td>\n",
       "      <td>82.742</td>\n",
       "      <td>1195.663</td>\n",
       "      <td>18:57:30.977633</td>\n",
       "      <td>16:53:39.49063</td>\n",
       "      <td>14.279</td>\n",
       "      <td>6.014</td>\n",
       "      <td>135.551</td>\n",
       "      <td>13.995</td>\n",
       "      <td>5.326</td>\n",
       "      <td>133.764</td>\n",
       "    </tr>\n",
       "    <tr>\n",
       "      <th>1</th>\n",
       "      <td>2</td>\n",
       "      <td>-12.823</td>\n",
       "      <td>-5.290</td>\n",
       "      <td>18:57:30.977571</td>\n",
       "      <td>16:53:39.48805</td>\n",
       "      <td>3.625</td>\n",
       "      <td>0.676</td>\n",
       "      <td>179.004</td>\n",
       "      <td>0.000</td>\n",
       "      <td>0.000</td>\n",
       "      <td>0.000</td>\n",
       "    </tr>\n",
       "  </tbody>\n",
       "</table>\n",
       "</div>"
      ],
      "text/plain": [
       "  Row # Peak int   Tot int  Right Ascension     Declination Maj axis Min axis   \n",
       "      # uJy/beam       uJy              hms             dms      mas      mas   \n",
       "0     1   82.742  1195.663  18:57:30.977633  16:53:39.49063   14.279    6.014  \\\n",
       "1     2  -12.823    -5.290  18:57:30.977571  16:53:39.48805    3.625    0.676   \n",
       "\n",
       "  Pos angle Decon maj Decon min Decon PA  \n",
       "    degrees       mas       mas  degrees  \n",
       "0   135.551    13.995     5.326  133.764  \n",
       "1   179.004     0.000     0.000    0.000  "
      ]
     },
     "execution_count": 14,
     "metadata": {},
     "output_type": "execute_result"
    }
   ],
   "source": [
    "aips_df "
   ]
  },
  {
   "cell_type": "code",
   "execution_count": null,
   "id": "ef7b40f0-a777-4bf1-a57b-3e93cb098ea0",
   "metadata": {},
   "outputs": [],
   "source": []
  }
 ],
 "metadata": {
  "kernelspec": {
   "display_name": "Python 3 (ipykernel)",
   "language": "python",
   "name": "python3"
  },
  "language_info": {
   "codemirror_mode": {
    "name": "ipython",
    "version": 3
   },
   "file_extension": ".py",
   "mimetype": "text/x-python",
   "name": "python",
   "nbconvert_exporter": "python",
   "pygments_lexer": "ipython3",
   "version": "3.11.0"
  }
 },
 "nbformat": 4,
 "nbformat_minor": 5
}

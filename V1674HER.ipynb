{
 "cells": [
  {
   "cell_type": "code",
   "execution_count": 3,
   "metadata": {},
   "outputs": [],
   "source": [
    "from astropy.wcs import WCS\n",
    "from astropy import wcs\n",
    "from astropy.io import fits, ascii\n",
    "from astropy.coordinates import Angle, SkyCoord\n",
    "from astropy.nddata import Cutout2D\n",
    "from astropy.modeling import models, fitting\n",
    "from astropy import time\n",
    "from astropy.constants import mu0\n",
    "import astropy.units as un\n",
    "import numpy as np\n",
    "import pandas as pd\n",
    "\n",
    "\n",
    "from matplotlib.patches import Ellipse, Rectangle, Arc\n",
    "import matplotlib.pyplot as plt\n",
    "from matplotlib.colors import LogNorm\n",
    "from matplotlib.ticker import MultipleLocator, FixedFormatter\n",
    "from matplotlib.ticker import FormatStrFormatter\n",
    "from matplotlib.legend_handler import HandlerTuple\n",
    "from matplotlib.lines import Line2D\n",
    "\n",
    "#these are all for the line fitting, which moved\n",
    "from scipy.optimize import curve_fit, minimize\n",
    "import scipy.stats as stats\n",
    "from scipy.special import gamma\n",
    "\n",
    "\n",
    "import math\n",
    "from IPython.display import display, Math, Latex\n",
    "\n",
    "import sys\n",
    "import warnings\n",
    "warnings.filterwarnings(\"ignore\");"
   ]
  },
  {
   "cell_type": "markdown",
   "metadata": {},
   "source": [
    "#### To-Do"
   ]
  },
  {
   "cell_type": "markdown",
   "metadata": {},
   "source": [
    "1. Make a check to see if all packages are imported, at least IPython.display.display & math\n",
    "2. Make a joined pressure and B field one\n",
    "3. see how to put functions and what not in a standalone file\n",
    "4. Figure out what I changed with the difmap_model_read\n",
    "5. Clear the line-fitting stuff to therealemcee_final\n",
    "6. Brightness T; formatting\n",
    "7. Beam & Scale bar are not cutout independent\n"
   ]
  },
  {
   "cell_type": "markdown",
   "metadata": {},
   "source": [
    "#### Functions "
   ]
  },
  {
   "cell_type": "code",
   "execution_count": 105,
   "metadata": {
    "tags": [
     "functions"
    ]
   },
   "outputs": [],
   "source": [
    "#-------------------------------------------------reading in files & whatnot fqns----------------------------------------------------------------------------\n",
    "def beam(hdu):\n",
    "    \"\"\"input fits hdu\"\"\"\n",
    "    beam_dict = {};\n",
    "    beam_dict = {\"b_major\": hdu.header['BMAJ'], \"b_minor\": hdu.header['BMIN'], \"b_pa\": hdu.header['BPA']};\n",
    "    #All units in degree\n",
    "    \n",
    "    return(beam_dict)\n",
    "\n",
    "\n",
    "def info(hdu, in_center_dict=None):\n",
    "    \"\"\"inpt fits hdu\"\"\"\n",
    "    if (str(hdu.__class__) == \"<class 'astropy.io.fits.hdu.image.PrimaryHDU'>\"):\n",
    "        \n",
    "        info_dict = {};\n",
    "        info_dict = { \"obs_code\": hdu.header['OBSERVER'], \"obs_date\": hdu.header['DATE-OBS'],\n",
    "                 \"obsra\": hdu.header['OBSRA'], \"obsdec\": hdu.header['OBSDEC'],\n",
    "                 \"rms\": hdu.header['NOISE'], \"min\": hdu.header['DATAMIN'], \"max\": hdu.header['DATAMAX']};\n",
    "        center_dict = {};\n",
    "        center_dict = {\"centpxl_ra\": hdu.header['CRPIX1'], \"centpxl_dec\": hdu.header['CRPIX2'],\n",
    "                \"center_ra\": hdu.header['CRVAL1'], \"center_dec\": hdu.header['CRVAL2'],\n",
    "                \"scale_ra\": hdu.header['CDELT1'], \"scale_dec\": hdu.header['CDELT2'],\n",
    "                \"npxl_ra\": hdu.header['NAXIS1'], \"npxl_dec\": hdu.header['NAXIS2']};\n",
    "        return(info_dict, center_dict);\n",
    "        \n",
    "    elif (str(hdu.__class__) == \"<class 'astropy.io.fits.header.Header'>\"):\n",
    "        \n",
    "        info_dict = {};\n",
    "        info_dict = { \"obs_date\": hdu['DATE-OBS']};\n",
    "        center_dict = in_center_dict;\n",
    "        center_dict |= {\"centpxl_ra\": hdu['CRPIX1'], \"centpxl_dec\": hdu['CRPIX2'],\n",
    "                \"center_ra\": hdu['CRVAL1'], \"center_dec\": hdu['CRVAL2'],\n",
    "                \"scale_ra\": hdu['CDELT1'], \"scale_dec\": hdu['CDELT2']};\n",
    "        return(info_dict, center_dict);\n",
    "    else:\n",
    "        print(\"The input is not a hdu object, it's:\",str(hdu.__class__));\n",
    "\n",
    "def load(filename):\n",
    "    \"\"\"input filename/path, will output hdu data, wcs, and hdu.\"\"\"\n",
    "    hdu = fits.open(filename)[0];\n",
    "    hdu_data = hdu.data[0][0];\n",
    "    wcs_tmp = WCS(hdu.header);\n",
    "    wcs_tmp1 = wcs_tmp.dropaxis(3);\n",
    "    wcs = wcs_tmp1.dropaxis(2);\n",
    "    \n",
    "    return(hdu_data, wcs, hdu)\n",
    "\n",
    "def difmap_model_read(modelfit_file):\n",
    "    \"\"\"reads the output of difmap model files, path to file is needed.\"\"\"\n",
    "    header_names = ['Flux (Jy)', 'Flux (jy) Std', 'East (arcsec)', 'RA (arcsec) Std', 'North (arcsec)', 'Dec (arcsec) Std', 'Shape', 'R.A. (deg)', 'Dec (deg)',\n",
    "        'Major FWHM (arcsec)', 'Major Std', 'Minor FWHM (arcsec)', 'Minor Std', 'Theta (deg)', 'Theta Std', 'Freq (Hz)', 'Spectral Index', 'Spec Indx Std' ];\n",
    "    \n",
    "    difmap_df = pd.read_csv(modelfit_file, header=None, sep=r'\\s+', skiprows=[0,1,2], engine='python', names=header_names, skipinitialspace=True);\n",
    "    # difmap_coords = 1;\n",
    "    difmap_coords = SkyCoord(difmap_df.iloc[0,7], difmap_df.iloc[0,8], unit=(un.degree, un.degree),\n",
    "                             obstime=\"J2000\", frame='fk5');\n",
    "\n",
    "    return(difmap_df, difmap_coords);\n",
    "\n",
    "#-------------------------------------------------plotting & imaging fqns----------------------------------------------------------------------------\n",
    "## Cutting function\n",
    "def cut(data, in_wcs, center_dict, center_pos, box):\n",
    "    \"\"\"input data, wcs, center dictionary, center position and size of cutout.\"\"\"\n",
    "    size = un.Quantity(box, un.pix);\n",
    "    \n",
    "    cutout = Cutout2D(data, position=center_pos, size=size, wcs=in_wcs, copy=True);\n",
    "    cutout_wcs = cutout.wcs.to_header();\n",
    "    wcs_cut = WCS(cutout_wcs);\n",
    "    cutout_data = cutout.data;\n",
    "    \n",
    "    center_tmp = cutout.center_cutout;\n",
    "    # center_coord = wcs_cut.pixel_to_world(center_tmp[0],[1]);\n",
    "    _ , new_center_dict = info(cutout_wcs, center_dict);\n",
    "    # new_center_dict = {'centpxl_ra': center_coord.ra.degree, 'centpxl_dec':center_coord.dec.degree,\n",
    "    #                   'center_ra': center_tmp[0], 'center_dec': center_tmp[1]};\n",
    "    new_center_dict |= {'centpxl_ra': center_tmp[0], 'centpxl_dec':center_tmp[1],\n",
    "                      'center_ra':center_pos.ra.degree, 'center_dec':center_pos.dec.degree,\n",
    "                       'npxl_ra': size[0].value, 'npxl_dec':size[1].value};\n",
    "    \n",
    "    return(cutout_data, wcs_cut, new_center_dict);\n",
    "\n",
    "##    # ploting functions\n",
    "def scale(beam_dict, size):\n",
    "    \"\"\"input beam dictionary, and size of scale bar.\"\"\"\n",
    "    b_conv = (3600*1e3);\n",
    "    beamsize = (beam_dict['b_major']*b_conv);\n",
    "    sbar_scale = (size/beamsize);\n",
    "    width = (beam_dict['b_major']*sbar_scale);\n",
    "\n",
    "    return(width);\n",
    "\n",
    "def beam_plotter(beam_dict, center_dict, ax_name, finetune_ra=0, finetune_dec=0):\n",
    "    \"\"\"finetune_ra (+) moves to the right, finetune_dec (+) moves down\"\"\"\n",
    "    ra_offset = (center_dict['npxl_ra']/2 - 25  - finetune_ra); #- 25\n",
    "    dec_offset = (center_dict['npxl_dec']/2 + finetune_dec )\n",
    "    \n",
    "    ra_offset_s = (ra_offset*center_dict['scale_ra']);\n",
    "    dec_offset_s = (dec_offset*center_dict['scale_dec']);\n",
    "   \n",
    "    beam_ra = (center_dict['center_ra'] - ra_offset_s + beam_dict['b_major']/2); \n",
    "    beam_dec = (center_dict['center_dec'] - dec_offset_s + beam_dict['b_major']);\n",
    "    \n",
    "    beam = Ellipse((beam_ra, beam_dec), height=beam_dict['b_major'], width = beam_dict['b_minor'], \n",
    "                   angle=beam_dict['b_pa'], transform=ax_name.get_transform('fk5'), edgecolor='w',\n",
    "                   facecolor='w', alpha=0.7, lw=2);\n",
    "    return(beam);\n",
    "\n",
    "def sbar_plotter(center_dict, beam_dict, sbar_width_ang, ax_name, finetune_ra=0, finetune_dec=0):\n",
    "    \"\"\"\"Input center dictionary, beam dictionary, size of scale bar in mas image axis name\n",
    "    additionally, you can fine tune the placement with fintune_ra & finetune_dec\"\"\"\n",
    "    b_conv = (3600*1e3);\n",
    "    beamsize = (beam_dict['b_major']*b_conv);\n",
    "    sbar_scale = (sbar_width_ang/beamsize);\n",
    "    \n",
    "    sbarwidth = (beam_dict['b_major']*sbar_scale);\n",
    "    \n",
    "    sbar_ra_offset = (center_dict['npxl_ra']/2 - 20);\n",
    "    sbar_dec_offset = (center_dict['npxl_dec']/2 - 15);\n",
    "    \n",
    "    sbar_rad = (center_dict['center_ra'] + sbar_ra_offset*center_dict['scale_ra']);\n",
    "    sbar_dec = (center_dict['center_dec'] - sbar_dec_offset*center_dict['scale_dec']);\n",
    "    \n",
    "    \n",
    "    sbartxt = str(sbar_width_ang) + ' mas';\n",
    "  \n",
    "    sbar_ra_txt = (sbar_ra_offset - 5*sbar_width_ang+ finetune_ra);\n",
    "    sbar_dec_txt = (sbar_dec_offset- 7 + finetune_dec);\n",
    "    \n",
    "    sbar_txt_rad = (center_dict['center_ra'] +\n",
    "                    sbar_ra_txt*center_dict['scale_ra']);\n",
    "    sbar_txt_dec = (center_dict['center_dec'] - sbar_dec_txt*center_dict['scale_dec']);\n",
    "\n",
    "    sbar = Rectangle((sbar_rad, sbar_dec), width = sbarwidth, height = beam_dict['b_minor']/10,\n",
    "                    transform=ax_name.get_transform('fk5'), color='w', facecolor='w', lw=2);\n",
    "                     \n",
    "    return(sbar, sbartxt, sbar_txt_rad, sbar_txt_dec);\n",
    "\n",
    "\n",
    "# -------------------------------------------------------------------general analysis functions ------------------------------------------------------------\n",
    "def angular_size(distance: int, angular_size):\n",
    "    \"\"\"distance needs to be in pc and angular size in arcsec\"\"\"\n",
    "    dist = distance*un.pc;\n",
    "    input = angular_size*un.arcsec;\n",
    "    theta = input.to(un.rad);\n",
    "    Diam = np.tan(theta)*dist;\n",
    "    Diam_AU = Diam.to(un.AU);  \n",
    "    # print(f'{Diam:.3E}',f'{Diam_AU:.3E}');\n",
    "    \n",
    "    #some latex formating\n",
    "    txt_di = '{D:.3E}';\n",
    "    txt_di = txt_di.format(D=Diam.value);\n",
    "    txt_dim = txt_di + \"\\,\" + \"pc;\";\n",
    "    txt_da = '{F:.3E}';\n",
    "    txt_da = txt_da.format(F=Diam_AU.value);\n",
    "    txt_dam = txt_da + \"\\,\" + \"AU\";\n",
    "    txt_diam = txt_dim + \"\\;\\;\\;\\;\" +txt_dam;\n",
    "    display(Math(txt_diam));\n",
    "\n",
    "\n",
    "    return  Diam, Diam_AU;\n",
    "\n",
    "def angsize_er(distance: int, asize_maj, asize_min, error=False, asize_maj_er=0, asize_min_er=0, dist_ler=0, dist_uer=0, pc=False, print_tex=False):\n",
    "    \"\"\"distance needs to be in pc and angular size in arcsec\"\"\"\n",
    "\n",
    "    if error is True:\n",
    "        error_pc = [];\n",
    "        error_au = [];\n",
    "\n",
    "        dist = distance*un.pc;\n",
    "        dist_er = [dist_ler, dist_uer]*un.pc;\n",
    "\n",
    "        asize = [asize_maj, asize_min]*un.arcsec;\n",
    "        theta = asize.to(un.rad);\n",
    "\n",
    "        asize_er = [asize_maj_er, asize_min_er]*un.arcsec;\n",
    "        asize_er = asize_er.to(un.rad);\n",
    "       \n",
    "        Diam = np.tan(theta)*dist;\n",
    "        Diam_AU = Diam.to(un.AU); \n",
    "        \n",
    "        a = (np.cos(theta)*np.sin(theta))**(-1)*(asize_er).value;\n",
    "        # a = a_rad.to(un.arcsec).value;\n",
    "\n",
    "        for i in range(0,2):\n",
    "        \n",
    "            b = (dist_er[i]/dist).value;\n",
    "            # print(np.sqrt(a**2+b**2))\n",
    "            er = (np.sqrt(a**2+b**2)*Diam);\n",
    "            \n",
    "            er_au = er.to(un.AU);\n",
    "            \n",
    "            error_pc.append(er);\n",
    "            error_au.append(er_au);\n",
    "    \n",
    "        #error format:\n",
    "        #lower: maj, min ; upper: maj, min\n",
    "        #error[0] gives lower: maj, min\n",
    "        #error[0][0] gives lower, maj value & unit\n",
    "        #now some latex formating for the print statement\n",
    "        # error = error.to(un.AU);\n",
    "        txt_majl_er = '{er:.2f}';\n",
    "        txt_majl_er = txt_majl_er.format(er=-error_au[0][0].value);\n",
    "        txt_minl_er = '{er:.2f}';\n",
    "        txt_minl_er = txt_minl_er.format(er=-error_au[0][1].value);\n",
    "\n",
    "        txt_maju_er = '{er:.2f}';\n",
    "        txt_maju_er = txt_maju_er.format(er=error_au[1][0].value);\n",
    "        txt_minu_er = '{er:.2f}';\n",
    "        txt_minu_er = txt_minu_er.format(er=error_au[1][1].value);\n",
    "\n",
    "        txt_maj = '{diam:.2f}';\n",
    "        txt_maj = txt_maj.format(diam=Diam_AU[0].value);\n",
    "        txt_min = '{diam:.2f}';\n",
    "        txt_min = txt_min.format(diam=Diam_AU[1].value);\n",
    "        \n",
    "        display(Latex(f'${txt_maj}_{{{txt_majl_er}}}^{{{txt_maju_er}}}\\; \\mathrm{{AU}}$'));\n",
    "        display(Latex(f'${txt_min}_{{{txt_minl_er}}}^{{{txt_minu_er}}}\\; \\mathrm{{AU}}$'));\n",
    "\n",
    "        if pc is True:\n",
    "            \n",
    "            txt_majl_er = '{er:.2e}';\n",
    "            txt_majl_er = txt_majl_er.format(er=-error_pc[0][0].value);\n",
    "            txt_minl_er = '{er:.2e}';\n",
    "            txt_minl_er = txt_minl_er.format(er=-error_pc[0][1].value);\n",
    "\n",
    "            txt_maju_er = '{er:.2e}';\n",
    "            txt_maju_er = txt_maju_er.format(er=error_pc[1][0].value);\n",
    "            txt_minu_er = '{er:.2e}';\n",
    "            txt_minu_er = txt_minu_er.format(er=error_pc[1][1].value);\n",
    "\n",
    "            txt_maj = '{diam:.2e}';\n",
    "            txt_maj = txt_maj.format(diam=Diam[0].value);\n",
    "            txt_min = '{diam:.2e}';\n",
    "            txt_min = txt_min.format(diam=Diam[1].value);\n",
    "            \n",
    "            display(Latex(f'${txt_maj}_{{{txt_majl_er}}}^{{{txt_maju_er}}}\\; \\mathrm{{pc}}$'));\n",
    "            display(Latex(f'${txt_min}_{{{txt_minl_er}}}^{{{txt_minu_er}}}\\; \\mathrm{{pc}}$'));\n",
    "        #give everything in AU\n",
    "        \n",
    "        d_au = {'Major ang size': [Diam_AU[0]], 'majr lower er': [error_au[0][0]], 'major upper er': [error_au[1][0]], \n",
    "                'minor ang size': [Diam_AU[1]], 'minor lower er': [error_au[0][1]], 'minor upper er': [error_au[1][1]]};\n",
    "        \n",
    "        d_pc = {'Major ang size': [Diam[0]], 'majr lower er': [error_pc[0][0]], 'major upper er': [error_pc[1][0]], \n",
    "                'minor ang size': [Diam[1]], 'minor lower er': [error_pc[0][1]], 'minor upper er': [error_pc[1][1]]};\n",
    "        \n",
    "        d_au = pd.DataFrame(data=d_au);\n",
    "        d_pc = pd.DataFrame(data=d_pc);\n",
    "\n",
    "        if print_tex:\n",
    "            print(f'${txt_min}_{{{txt_minl_er}}}^{{{txt_minu_er}}}\\; \\mathrm{{AU}}$');\n",
    "\n",
    "    \n",
    "    elif error is False:\n",
    "        dist = distance*un.pc;\n",
    "        asize = [asize_maj, asize_min];\n",
    "        input = asize*un.arcsec;\n",
    "        theta = input.to(un.rad);\n",
    "        Diam = np.tan(theta)*dist;\n",
    "        Diam_AU = Diam.to(un.AU);  \n",
    "        # print(f'{Diam:.3E}',f'{Diam_AU:.3E}');\n",
    "        \n",
    "        #some latex formating\n",
    "        txt_di = '{D:.3E}';\n",
    "        # print('tst')\n",
    "        txt_di = txt_di.format(D=Diam[0].value);\n",
    "        txt_dim = txt_di + \"\\,\" + \"pc;\";\n",
    "        txt_da = '{F:.2f}';\n",
    "        txt_da = txt_da.format(F=Diam_AU[0].value);\n",
    "        txt_dam = txt_da + \"\\,\" + \"AU\";\n",
    "        txt_diam = txt_dim + \"\\;\\;\\;\\;\" +txt_dam;\n",
    "\n",
    "        \n",
    "        txt_di_m = txt_di.format(D=Diam[1].value);\n",
    "        txt_dim_m = txt_di_m + \"\\,\" + \"pc;\";\n",
    "        txt_da_m = '{F:.2f}';\n",
    "        txt_da_m = txt_da_m.format(F=Diam_AU[1].value);\n",
    "        txt_dam_m = txt_da_m + \"\\,\" + \"AU\";\n",
    "        txt_diam_m = txt_dim_m + \"\\;\\;\\;\\;\" +txt_dam_m;\n",
    "\n",
    "        d_au = Diam_AU;\n",
    "        d_pc = Diam;\n",
    "        \n",
    "        display(Latex(f'$\\mathrm{{Major\\;Axis=}}\\; {txt_diam}$'));\n",
    "        display(Latex(f'$\\mathrm{{Minor\\; Axis=}}\\; {txt_diam_m}$'));\n",
    "\n",
    "        if print_tex:\n",
    "            print(f'Major = ${txt_diam}$');\n",
    "            print(f'Minor = ${txt_diam_m}$')\n",
    "\n",
    "    return  d_au, d_pc\n",
    "\n",
    "\n",
    "\n",
    "def separation_mas(one, two, dist=0): #does this one need error bars\n",
    "    if dist == 0:\n",
    "        sep = one.separation(two);\n",
    "        sep_mas = sep.to(un.mas);\n",
    "        print(sep_mas);\n",
    "    \n",
    "    elif dist != 0:\n",
    "        sep = one.separation(two);\n",
    "        sep_mas = sep.to(un.mas);\n",
    "        print(sep_mas);\n",
    "        dist_pc = dist*un.pc;\n",
    "        theta = sep_mas.to(un.rad);\n",
    "        sep_pc = np.tan(theta)*dist_pc;\n",
    "        sep_AU = sep_pc.to(un.AU);\n",
    "        sep_cm = sep_pc.to(un.cm);\n",
    "        print(\"Separation (pc):\", f'{sep_pc:.3E}');\n",
    "        print(\"Separation (AU):\", f'{sep_AU:.3E}');\n",
    "        print(\"Separation (cm):\", f'{sep_cm:.3E}');\n",
    "\n",
    "    return sep_mas\n",
    "\n",
    "\n",
    "def B_field_er_difmap(difmap, l, dl_in):\n",
    "\n",
    "    B_list = B_field_er(l, difmap.iloc[0,0], difmap.iloc[0,9], difmap.iloc[0,15], \n",
    "                         error=True, dl=dl_in, dflux=difmap.iloc[0,1],dDiam=difmap.iloc[0,10]);\n",
    "    \n",
    "    return B_list\n",
    "\n",
    "\n",
    "def B_field_er(l, flux, Diameter, nu, K_o=40, f=1, i=0, si=-0.7, error=False, dl=0, dflux=0, dDiam=0, print_tex=False):\n",
    "    \"\"\"path length (pc), flux (Jy), and Diameter (arcsec) \n",
    "    l must be an astropy unit object\n",
    "    can specify K_o, f, i, or alpha (spectral index (si))\n",
    "    assumes 10% of radius as the emitting region\"\"\"\n",
    "    #Beck & Krause 2005\n",
    "    if error is True:\n",
    "        B_eq, B_min = magnetic_field(l, flux, Diameter, nu, K_o, f, i, si, tex=False);\n",
    "        # print(B_eq, B_min);\n",
    "        l = (l*un.pc).to(un.cm).value;\n",
    "    \n",
    "\n",
    "        D = (Diameter*un.arcsec).to(un.rad).value;\n",
    "        dflux = ((dflux*un.Jy).cgs).value;\n",
    "        dDiam = (dDiam*un.arcsec).to(un.rad).value;\n",
    "        dl = ((dl)*un.pc).to(un.cm).value;\n",
    "\n",
    "        a = dflux/flux;\n",
    "        b = 2*dDiam/D;\n",
    "        c_l = dl[0]/l;\n",
    "        c_u = dl[1]/l;\n",
    "       \n",
    "       \n",
    "        dB_eq_l = B_eq*np.sqrt(a**2+b**2+c_l**2);\n",
    "        dB_eq_u = B_eq*np.sqrt(a**2+b**2+c_u**2);\n",
    "\n",
    "        dB_min_l = B_min*np.sqrt(a**2+b**2+c_l**2);\n",
    "        dB_min_u = B_min*np.sqrt(a**2+b**2+c_u**2);\n",
    "         #some formatting in latex\n",
    "        \n",
    "        txt_l = \"l=\";\n",
    "        txt_ln = \"{L:.2E}\";\n",
    "        txt_ln = txt_ln.format(L=l);\n",
    "        txt_l = txt_l + txt_ln + \"\\,cm\"\n",
    "        \n",
    "        txt_K_0 = \"K_0=\";\n",
    "        txt_K = '{K}';\n",
    "        txt_K = txt_K.format(K=K_o);\n",
    "        txt_K_0 = txt_K_0 + txt_K;\n",
    "        \n",
    "        txt_B = \"{B:.3f}\"\n",
    "        txt_B = txt_B.format(B=B_eq);\n",
    "\n",
    "        txt_B_min = \"{B:.3f}\"\n",
    "        txt_B_min = txt_B_min.format(B=B_min);\n",
    "\n",
    "        txt_l = '{l:.3f}';\n",
    "        txt_l = txt_l.format(l=dB_eq_l);\n",
    "        txt_u = '{u:.3f}';\n",
    "        txt_u = txt_u.format(u=-dB_eq_u);\n",
    "\n",
    "        txt_l_m = '{l:.3f}';\n",
    "        txt_l_m = txt_l_m.format(l=dB_min_l);\n",
    "        txt_u_m = '{u:.3f}';\n",
    "        txt_u_m = txt_u_m.format(u=-dB_min_u);\n",
    "\n",
    "        txt_mega = txt_K_0 + \";\\;\\;\" ;\n",
    "\n",
    "        # # B_list = [B_min, dB_min_l, dB_min_u, B_eq, dB_eq_l, dB_eq_u];\n",
    "        # # cols = ['B min', 'B min er lower', 'B min er upper', 'B eq', 'B eq er lower', 'B eq er upper'];\n",
    "        d = {'B min': [B_min], 'Bm lower er': [dB_min_l], 'Bm upper er': [dB_min_u], 'B eq': [B_eq],\n",
    "             'B eq lower er': [dB_eq_l], 'B eq upper er': [dB_eq_u]};\n",
    "        B_list = pd.DataFrame(data=d);\n",
    "\n",
    "        display(Latex(f'${txt_mega}\\; l={txt_ln}\\;cm;\\;B_{{eq}}={txt_B}_{{{txt_u}}}^{{{txt_l}}}\\;(G);B_{{min}}={txt_B_min}_{{{txt_l_m}}}^{{{txt_u_m}}}\\;(G)$'));\n",
    "\n",
    "        if print_tex is True:\n",
    "            \n",
    "            print(f'${txt_mega}\\; l={txt_ln}\\;cm;\\;B_{{eq}}={txt_B}_{{{txt_u}}}^{{{txt_l}}}\\;(G);B_{{min}}={txt_B_min}_{{{txt_l_m}}}^{{{txt_u_m}}}\\;(G)$');\n",
    "\n",
    "    elif error is False:\n",
    "        l = (l*un.pc).to(un.cm).value;\n",
    "        \n",
    "        a = -1*si;\n",
    "        S_nu = ((flux*un.Jy).cgs).value;\n",
    "        D = (Diameter*un.arcsec).to(un.rad).value;\n",
    "        \n",
    "        I_nu = S_nu/D**2;\n",
    "        E_p = ((938.257 *un.MeV).cgs).value;\n",
    "        freq = ((nu*un.Hz).cgs).value;\n",
    "\n",
    "\n",
    "        #constants \n",
    "        C3 = (1.86558e-23);\n",
    "        C1 =(6.62428e18);\n",
    "        # C2 = 0.25*C3* (a+5/3)/(a+1) * gamma(1+3a)*gamma((3*a+5)/6);\n",
    "        C2 = 0.25*C3* (a+5/3)/(a+1) * gamma(1+3*a)*gamma((2*a+3)/4);\n",
    "        # C2 = C2.decompose();\n",
    "        C4 = np.cos(i)**(a+1);\n",
    "\n",
    "        # exp = 1/(a+3);\n",
    "        one = (4*np.pi*(2*a+1)*(K_o+1)*I_nu*(E_p**(1-2*a)));\n",
    "        two = ((freq/(2*C1))**a);\n",
    "        three = ((2*a-1)*C2*l*C4*f);\n",
    "        B_eq = ((one*two)/three)**(1/(a+3));\n",
    "        B_min = B_eq * ((a+1)/2)**(1/(a+3));\n",
    "        # print(B_eq, \"Gauss, K_0:\", K_o, \"path length (cm):\", f'{l:.2E}');\n",
    "         #some formatting in latex\n",
    "        txt_B = \"{B:.2E}\"\n",
    "        txt_B_var = \"B_{eq}\\: =\";\n",
    "        txt_B = txt_B.format(B=B_eq);\n",
    "        txt_B = txt_B_var + txt_B  + \"\\,G\";\n",
    "        \n",
    "        txt_l = \"l\\,=\\,\";\n",
    "        txt_ln = \"{L:.2E}\";\n",
    "        txt_ln = txt_ln.format(L=l);\n",
    "        txt_l = txt_l + txt_ln + \"\\,cm\"\n",
    "        \n",
    "        txt_K_0 = \"K_0\\,=\\,\";\n",
    "        txt_K = '{K}';\n",
    "        txt_K = txt_K.format(K=K_o);\n",
    "        txt_K_0 = txt_K_0 + txt_K;\n",
    "        \n",
    "        txt_mega = txt_K_0 + \";\\;\\;\\;\" + txt_l + \";\\;\\;\\;\" + txt_B ;\n",
    "        display(Math(txt_mega));\n",
    "\n",
    "        d = {'B min': [B_min],  'B eq': [B_eq]};\n",
    "        B_list = pd.DataFrame(data=d);\n",
    "\n",
    "    return B_list\n",
    "\n",
    "def magnetic_field(l, flux, Diameter, nu, K_o=40, f=1, i=0, si=-0.7, tex=True):\n",
    "    \"\"\"path length (pc), flux (Jy), and Diameter (arcsec) \n",
    "    l must be an astropy unit object\n",
    "    can specify K_o, f, i, or alpha (spectral index (si))\n",
    "    assumes 10% of radius as the emitting region\"\"\"\n",
    "    #Beck & Krause 2005\n",
    "\n",
    "    l = ((l*un.pc).to(un.cm)).value;\n",
    "    \n",
    "    a = -1*si;\n",
    "    S_nu = ((flux*un.Jy).cgs).value;\n",
    "    D = (Diameter*un.arcsec).to(un.rad).value;\n",
    "\n",
    "    I_nu = S_nu/D**2;\n",
    "    E_p = ((938.257 *un.MeV).cgs).value;\n",
    "    freq = ((nu*un.Hz).cgs).value;\n",
    "\n",
    "\n",
    "    #constants \n",
    "    C3 = (1.86558e-23);\n",
    "    C1 =(6.62428e18);\n",
    "    # C2 = 0.25*C3* (a+5/3)/(a+1) * gamma(1+3a)*gamma((3*a+5)/6);\n",
    "    C2 = 0.25*C3* (a+5/3)/(a+1) * gamma(1+3*a)*gamma((2*a+3)/4);\n",
    "    # C2 = C2.decompose();\n",
    "    C4 = np.cos(i)**(a+1);\n",
    "\n",
    "    # exp = 1/(a+3);\n",
    "    one = (4*np.pi*(2*a+1)*(K_o+1)*I_nu*(E_p**(1-2*a)));\n",
    "    two = ((freq/(2*C1))**a);\n",
    "    three = ((2*a-1)*C2*l*C4*f);\n",
    "    B_eq = ((one*two)/three)**(1/(a+3));\n",
    "    B_min = B_eq * ((a+1)/2)**(1/(a+3));\n",
    "    # print(B_eq, \"Gauss, K_0:\", K_o, \"path length (cm):\", f'{l:.2E}');\n",
    "    if tex is True:\n",
    "\n",
    "        #some formatting in latex\n",
    "        txt_B = \"{B:.2E}\"\n",
    "        txt_B_var = \"B_{eq}\\: =\";\n",
    "        txt_B = txt_B.format(B=B_eq);\n",
    "        txt_B = txt_B_var + txt_B  + \"\\,G\";\n",
    "        \n",
    "        txt_l = \"l\\,=\\,\";\n",
    "        txt_ln = \"{L:.2E}\";\n",
    "        txt_ln = txt_ln.format(L=l);\n",
    "        txt_l = txt_l + txt_ln + \"\\,cm\"\n",
    "        \n",
    "        txt_K_0 = \"K_0\\,=\\,\";\n",
    "        txt_K = '{K}';\n",
    "        txt_K = txt_K.format(K=K_o);\n",
    "        txt_K_0 = txt_K_0 + txt_K;\n",
    "        \n",
    "        txt_mega = txt_K_0 + \";\\;\\;\\;\" + txt_l + \";\\;\\;\\;\" + txt_B ;\n",
    "        display(Math(txt_mega));\n",
    "\n",
    "    return B_eq, B_min\n",
    "\n",
    "def press_mage(b_list, tex=True, print_tex=False):\n",
    "    \"\"\"returns p_blist_min, p_blist_eq\"\"\"\n",
    "    # press_mag_er(B, b_er_low, b_er_high, print_tex=False, tex=True)\n",
    "    p_blist_min = press_mag_er(b_list.iloc[0][0], b_list.iloc[0][1], b_list.iloc[0][2], tex=tex, print_tex=print_tex);\n",
    "    p_blist_eq = press_mag_er(b_list.iloc[0][3], b_list.iloc[0][4], b_list.iloc[0][5], tex=tex, print_tex=print_tex);\n",
    "\n",
    "    return p_blist_min, p_blist_eq\n",
    "\n",
    "\n",
    "def press_mag(B, tex=True, print_tex=False):\n",
    "    \"\"\"returns the magnetic field pressure in dyn/cm^2\"\"\"\n",
    "    B_m = (B*un.G).to(un.T);\n",
    "    P_b = (B_m)**2/(2*mu0);\n",
    "    P_b = (P_b.value);\n",
    "\n",
    "    if tex is True:\n",
    "        #now to format in latex bc i hate myself\n",
    "        #have to split the latex into 2 strings, otherwise the latex won't format\n",
    "        txt0 = \"P_B\\,=\\,\";\n",
    "        txt1 = \"{x:.2E}\";\n",
    "        txt1 = txt1.format(x=P_b);\n",
    "        txt2 = \"\\:\\\\frac{dyn}{cm^2}\";\n",
    "        txt = txt0 + txt1 + txt2;\n",
    "        display(Latex(f'${txt}$'));\n",
    "\n",
    "    if print_tex is True:\n",
    "        print(f'${txt}$');\n",
    "    return P_b\n",
    "\n",
    "def press_mag_er(B, b_er_low, b_er_high, print_tex=False, tex=True):\n",
    "\n",
    "    P_b = press_mag(B, tex=False);\n",
    "    dP_bl = -P_b*(2*b_er_low/B);\n",
    "    dP_bu = P_b*(2*b_er_high/B);\n",
    "\n",
    "    P_b_txt = '{P:.2e}';\n",
    "    P_b_txt = P_b_txt.format(P=P_b);\n",
    "    dP_bl_txt = f'{dP_bl:.2e}';\n",
    "    dP_bu_txt = f'{dP_bu:.2e}';\n",
    "    units = '\\\\frac{{dyn}}{{cm^2}}';\n",
    "    display(Latex(f'${P_b_txt}_{{{dP_bl_txt}}}^{{{dP_bu_txt}}}\\;{{{units}}}$'));\n",
    "\n",
    "    if print_tex is True:\n",
    "        print(f'${P_b_txt}_{{{dP_bl_txt}}}^{{{dP_bu_txt}}}\\;{{{units}}}$');\n",
    "    \n",
    "    d = {'P_b': [P_b], 'P_b lower er': [dP_bl], 'P_B upper er': [dP_bu]};\n",
    "    p_blist = pd.DataFrame(data=d);\n",
    "\n",
    "    return p_blist\n",
    "\n",
    "def dyn_press(n_e, v):\n",
    "\n",
    "    n_e_m = n_e*(1000)**3;\n",
    "    u = 1.66053906892e-27;\n",
    "    rho = n_e_m*1.0008*u;\n",
    "    P_dyn = (1/2)*rho*v;\n",
    "\n",
    "    print(P_dyn, 'M/m^2');\n",
    "    return P_dyn\n",
    "\n",
    "def brightness_temp_difmap(difmap, print_tex=False):\n",
    "\n",
    "    Tb_df = brightness_temp_er(difmap.iloc[0,9], difmap.iloc[0,11], difmap.iloc[0,10], difmap.iloc[0,12], difmap.iloc[0,0],\n",
    "                               difmap.iloc[0,1], difmap.iloc[0,15], print_tex=print_tex);\n",
    "    return Tb_df\n",
    "\n",
    "\n",
    "def brightness_temp(theta_maj, theta_min, flux, freq, tex=True):\n",
    "    \"\"\" returns brightness temperature, needs theta in arcsec, flux in Jy, and freq\"\"\"\n",
    "    rad_conv = (3600)**(-1)*(np.pi/180); #arcsec to rad\n",
    "    jy = 10e-26;\n",
    "    theta1 = theta_maj*rad_conv;\n",
    "    theta2 = theta_min*rad_conv;\n",
    "    k = 1.38e-23;\n",
    "    c = 2.99e8;\n",
    "\n",
    "\n",
    "    Tb = (c/freq)**2 * (flux*jy) * (2*k)**(-1) * ((4*np.log10(2))/(np.pi*theta1*theta2));\n",
    "    Tb_txt = f'{Tb:.2e}';\n",
    "\n",
    "    if tex is True:\n",
    "       display(Latex(f'${Tb_txt}\\;K$'));\n",
    "\n",
    "    return Tb\n",
    "\n",
    "def brightness_temp_er(theta_maj, theta_min, dtheta_maj, dtheta_min, flux, dflux, freq, print_tex=False):\n",
    "\n",
    "    Tb = brightness_temp(theta_maj, theta_min, flux, freq, tex=False);\n",
    "\n",
    "    dTb = Tb * np.sqrt((dflux/flux)**2+(dtheta_maj/theta_maj)**2+(dtheta_min/theta_min)**2);\n",
    "\n",
    "    Tb_txt = f'{Tb:.2e}';\n",
    "    dTb_txt = f'{dTb:.2e}';\n",
    "    txt = f'${Tb_txt}\\\\pm\\;{dTb_txt}\\; K$';\n",
    "    \n",
    "    display(Latex(txt));\n",
    "\n",
    "    d = {'Tb': [Tb], 'Tb er': [dTb]};\n",
    "    Tb_df = pd.DataFrame(data=d);\n",
    "\n",
    "    if print_tex is True:\n",
    "        print(txt);\n",
    "\n",
    "    return Tb_df\n",
    "\n",
    "def opacity_tb(T_b, T=1e4):\n",
    "    \"\"\"Returns the optical depth from brightness temperature\"\"\"\n",
    "    tau = np.log(T_b/T -1);\n",
    "\n",
    "    print(f'{tau:.2E}');\n",
    "    return tau\n",
    "\n",
    "def opacity_flux(F_trans, F_o):\n",
    "    \"\"\"returns the opacity from the ratio of transmitted and initial flux\"\"\"\n",
    "\n",
    "    tau = np.log(F_trans/F_o);\n",
    "    \n",
    "    # print(f'{tau:.2E}');\n",
    "    return tau\n",
    "\n",
    "def emission_meas(tau, nu, T=10**4):\n",
    "    \"\"\"returns the emission measure in cm**6/pc\"\"\"\n",
    "    A = tau/3.28e-7;\n",
    "    B = (T/10e4)**1.35;\n",
    "    C = (nu)**2.1;\n",
    "    EM = A*B*C;\n",
    "\n",
    "    # print(f'{EM:.2E}', \"pc*cm**(-6)\");\n",
    "    return EM\n",
    "\n",
    "\n",
    "def EM_FTR(F_trans, F_o, nu, l=0, T=10**4):\n",
    "    \"\"\"flux (Jy), l (pc); l is optional and will print n_e as a result\"\"\"\n",
    "    tau = -1*opacity_flux(F_trans, F_o);\n",
    "    EM = emission_meas(tau, nu, T);\n",
    "\n",
    "    #latex shenanigans\n",
    "    txt_t = \"\\\\tau\\,=\\,\";\n",
    "    txt_tau = \"{t:.2f}\";\n",
    "    txt_tau = txt_tau.format(t=tau);\n",
    "    txt_op = txt_t + \"\\;\" + txt_tau;\n",
    "    \n",
    "    # print(\"tau:\",f'{tau:.2E}');\n",
    "    # print(\"EM\", f'{EM:.2E}')\n",
    "\n",
    "    txt_EM = \"EM\\,=\\,\";\n",
    "    txt_EM_v = \"{x:.2E}\";\n",
    "    txt_EM_v = txt_EM_v.format(x=EM);\n",
    "    txt_EM_un = \"\\\\frac{pc}{cm^{6}}\";\n",
    "    txt_EM = txt_EM + txt_EM_v +\"\\,\\,\\,\" + txt_EM_un;\n",
    "\n",
    "    d = {'tau': [tau], 'EM': [EM]}\n",
    "    EM_df = pd.DataFrame(data=d);\n",
    "\n",
    "\n",
    "    if l != 0:\n",
    "        \n",
    "        #EM units: pc/cm^6\n",
    "        l = (0.1*l).value;#untis: pc\n",
    "        n_e = (EM/l)**(1/2); #units: 1/cm^3\n",
    "        \n",
    "        #latex\n",
    "        txt_ne = \"n_e\\,=\\,\";\n",
    "        txt_ne_v = \"{x:.2E}\";\n",
    "        txt_ne_v = txt_ne_v.format(x=n_e);\n",
    "        txt_ne_un = \"\\\\frac{1}{cm^3}\";\n",
    "        txt_ne = txt_ne + txt_ne_v + \"\\;\\;\\;\" + txt_ne_un;\n",
    "        \n",
    "\n",
    "        txt = txt_op + \";\\;\\;\\;\\;\" + txt_EM + \";\\;\\;\\;\\;\" + txt_ne;\n",
    "        display(Math(txt));\n",
    "\n",
    "        d_ne = {'tau': [tau], 'EM': [EM], 'n_e': [n_e]};\n",
    "        EM_df = pd.DataFrame(data=d_ne);\n",
    "    \n",
    "    elif l ==0:\n",
    "        # tau = -1*opacity_flux(F_trans, F_o);\n",
    "        # EM = emission_meas(tau, nu, T);\n",
    "\n",
    "        #latex\n",
    "        txt = txt_op + \";\\;\\;\\;\\;\" + txt_EM;\n",
    "        display(Math(txt));\n",
    "\n",
    "    return EM_df"
   ]
  },
  {
   "cell_type": "markdown",
   "metadata": {},
   "source": [
    "### Gaia Stuff"
   ]
  },
  {
   "cell_type": "code",
   "execution_count": 5,
   "metadata": {},
   "outputs": [
    {
     "data": {
      "text/plain": [
       "'2021-06-12T04:34:01.920'"
      ]
     },
     "execution_count": 5,
     "metadata": {},
     "output_type": "execute_result"
    }
   ],
   "source": [
    "#get time of eruption\n",
    "t_0 = time.Time(2459377.6903, format=\"jd\", scale=\"utc\");\n",
    "t_0.fits #to get in readable format"
   ]
  },
  {
   "cell_type": "code",
   "execution_count": 6,
   "metadata": {},
   "outputs": [],
   "source": [
    "gaia_df = pd.read_csv('./tables/V1674HER_gaia.csv', delimiter=',');\n",
    "v1674her_df = gaia_df.iloc[3];\n",
    "v1674her_gaia = v1674her_df.to_dict();\n",
    "#ra_pm = un.Quantity(v1674her_gaia['pmra'], unit=(un.mas/un.year));\n",
    "\n",
    "gaia = SkyCoord(v1674her_gaia['ra'], v1674her_gaia['dec'], unit=(un.degree, un.degree), \n",
    "                obstime=\"J2016\", pm_ra_cosdec=(v1674her_gaia['pmra']*(un.mas/un.year)), \n",
    "                pm_dec=(v1674her_gaia['pmdec']*(un.mas/un.year)), frame='icrs');\n",
    "\n",
    "ra_err = (v1674her_df['dec_error']*un.mas).to(un.degree).value;\n",
    "dec_err = (v1674her_df['ra_error']*un.mas).to(un.degree).value;\n",
    "rapm_err = (v1674her_df['pmra_error']*un.mas).to(un.degree).value;\n",
    "decpm_err = (v1674her_df['pmdec_error']*un.mas).to(un.degree).value;\n",
    "\n",
    "# gaia_xerr = (ra_err**2+rapm_err**2)**(1/2);\n",
    "# gaia_yerr = (dec_err**2+rapm_err**2)**(1/2);\n",
    "\n",
    "\n",
    "\n",
    "gaia_simbad = SkyCoord('284.37907767182', '+16.8943096496', unit=(un.deg), obstime=\"J2016\");\n",
    "gaia_simbad_fk5 = SkyCoord('18 57 30.9832440660', '+16 53 39.589542422', unit=(un.hourangle, un.degree), frame='fk5');\n"
   ]
  },
  {
   "cell_type": "code",
   "execution_count": 6,
   "metadata": {},
   "outputs": [],
   "source": [
    "# coords = [\"1:12:43.2 +1:12:43\", \"1 12 43.2 +1 12 43\"]\n",
    "# sc1 = SkyCoord(coords, frame=FK4, unit=(un.hourangle, un.deg), obstime=\"J1992.21\")\n",
    "\n",
    "# sc2 = SkyCoord(coords, frame=FK4(equinox=\"J1992.21\"), unit=(un.hourangle, un.deg))"
   ]
  },
  {
   "cell_type": "markdown",
   "metadata": {},
   "source": [
    "### Difmap Model fit"
   ]
  },
  {
   "cell_type": "code",
   "execution_count": 7,
   "metadata": {},
   "outputs": [],
   "source": [
    "# modelfitb, modelfitb_coords = difmap_model_read('/Users/mwilliam/Documents/data/python/V1674HER/imfit/modelfitB_1.txt');\n",
    "# modelfitd, modelfitd_coords = difmap_model_read('/Users/mwilliam/Documents/data/python/V1674HER/imfit/modelfitd.txt');\n",
    "# modelfitf, modelfitf_coords = difmap_model_read('/Users/mwilliam/Documents/data/python/V1674HER/imfit/modelfitF.txt');\n",
    "modelfitb, modelfitb_coords = difmap_model_read('./imfit/011525/modelfitb_sc0225.txt');\n",
    "modelfitd, modelfitd_coords = difmap_model_read('./imfit/011525/modelfitd_sc0225.txt');\n",
    "modelfitf, modelfitf_coords_1 = difmap_model_read('./imfit/011525/modelfitf_sc2251.txt');\n",
    "# modelfitf_coords_2 = SkyCoord(modelfitf.iloc[1,7], modelfitf.iloc[1,8], unit=(un.degree, un.degree));\n",
    "rms_list = [1.83975e-5, 1.2292e-5, 1.27826e-5]; #unit: Jy source: off-source calc from difmap\n",
    "# modelfitf_coords_2"
   ]
  },
  {
   "cell_type": "markdown",
   "metadata": {},
   "source": [
    "## Distance & Angular Size"
   ]
  },
  {
   "cell_type": "code",
   "execution_count": 8,
   "metadata": {},
   "outputs": [
    {
     "data": {
      "text/latex": [
       "$\\displaystyle 1.294E-04\\,pc;\\;\\;\\;\\;2.669E+01\\,AU$"
      ],
      "text/plain": [
       "<IPython.core.display.Math object>"
      ]
     },
     "metadata": {},
     "output_type": "display_data"
    }
   ],
   "source": [
    "angular_size(6.3e3, modelfitb.iloc[0,11]);"
   ]
  },
  {
   "cell_type": "code",
   "execution_count": 71,
   "metadata": {},
   "outputs": [
    {
     "data": {
      "text/latex": [
       "$67.85_{-30.20}^{40.96}\\; \\mathrm{AU}$"
      ],
      "text/plain": [
       "<IPython.core.display.Latex object>"
      ]
     },
     "metadata": {},
     "output_type": "display_data"
    },
    {
     "data": {
      "text/latex": [
       "$26.69_{-12.53}^{16.60}\\; \\mathrm{AU}$"
      ],
      "text/plain": [
       "<IPython.core.display.Latex object>"
      ]
     },
     "metadata": {},
     "output_type": "display_data"
    },
    {
     "data": {
      "text/latex": [
       "$3.29e-04_{-1.46e-04}^{1.99e-04}\\; \\mathrm{pc}$"
      ],
      "text/plain": [
       "<IPython.core.display.Latex object>"
      ]
     },
     "metadata": {},
     "output_type": "display_data"
    },
    {
     "data": {
      "text/latex": [
       "$1.29e-04_{-6.07e-05}^{8.05e-05}\\; \\mathrm{pc}$"
      ],
      "text/plain": [
       "<IPython.core.display.Latex object>"
      ]
     },
     "metadata": {},
     "output_type": "display_data"
    }
   ],
   "source": [
    "Diamb_au, Diamb_pc = angsize_er(6.3e3, modelfitb.iloc[0,9], modelfitb.iloc[0,11], error=True, asize_maj_er=modelfitb.iloc[0,10], asize_min_er=modelfitb.iloc[0,12], dist_ler=-2.8e3, dist_uer=3.8e3, pc=True, print_tex=False);"
   ]
  },
  {
   "cell_type": "code",
   "execution_count": 32,
   "metadata": {},
   "outputs": [
    {
     "name": "stdout",
     "output_type": "stream",
     "text": [
      "5.2214433455497026e-08\n"
     ]
    },
    {
     "data": {
      "text/latex": [
       "$\\displaystyle K_0\\,=\\,40;\\;\\;\\;l\\,=\\,3.98E+13\\,cm;\\;\\;\\;B_{eq}\\: =8.54E-02\\,G$"
      ],
      "text/plain": [
       "<IPython.core.display.Math object>"
      ]
     },
     "metadata": {},
     "output_type": "display_data"
    }
   ],
   "source": [
    "B_eq_40b, B_min_40b = magnetic_field(1.29e-4*.1, modelfitb.iloc[0,0], modelfitb.iloc[0,9], modelfitb.iloc[0,15]);"
   ]
  },
  {
   "cell_type": "code",
   "execution_count": 52,
   "metadata": {},
   "outputs": [
    {
     "data": {
      "text/html": [
       "<div>\n",
       "<style scoped>\n",
       "    .dataframe tbody tr th:only-of-type {\n",
       "        vertical-align: middle;\n",
       "    }\n",
       "\n",
       "    .dataframe tbody tr th {\n",
       "        vertical-align: top;\n",
       "    }\n",
       "\n",
       "    .dataframe thead th {\n",
       "        text-align: right;\n",
       "    }\n",
       "</style>\n",
       "<table border=\"1\" class=\"dataframe\">\n",
       "  <thead>\n",
       "    <tr style=\"text-align: right;\">\n",
       "      <th></th>\n",
       "      <th>Flux (Jy)</th>\n",
       "      <th>Flux (jy) Std</th>\n",
       "      <th>East (arcsec)</th>\n",
       "      <th>RA (arcsec) Std</th>\n",
       "      <th>North (arcsec)</th>\n",
       "      <th>Dec (arcsec) Std</th>\n",
       "      <th>Shape</th>\n",
       "      <th>R.A. (deg)</th>\n",
       "      <th>Dec (deg)</th>\n",
       "      <th>Major FWHM (arcsec)</th>\n",
       "      <th>Major Std</th>\n",
       "      <th>Minor FWHM (arcsec)</th>\n",
       "      <th>Minor Std</th>\n",
       "      <th>Theta (deg)</th>\n",
       "      <th>Theta Std</th>\n",
       "      <th>Freq (Hz)</th>\n",
       "      <th>Spectral Index</th>\n",
       "      <th>Spec Indx Std</th>\n",
       "    </tr>\n",
       "  </thead>\n",
       "  <tbody>\n",
       "    <tr>\n",
       "      <th>0</th>\n",
       "      <td>0.001584</td>\n",
       "      <td>0.000049</td>\n",
       "      <td>0.006914</td>\n",
       "      <td>0.00016</td>\n",
       "      <td>0.000308</td>\n",
       "      <td>0.00013</td>\n",
       "      <td>gauss</td>\n",
       "      <td>284.379073</td>\n",
       "      <td>16.894302</td>\n",
       "      <td>0.01077</td>\n",
       "      <td>0.00025</td>\n",
       "      <td>0.004237</td>\n",
       "      <td>0.00064</td>\n",
       "      <td>-46.18</td>\n",
       "      <td>2.6</td>\n",
       "      <td>4.867750e+09</td>\n",
       "      <td>0.0</td>\n",
       "      <td>0.0</td>\n",
       "    </tr>\n",
       "  </tbody>\n",
       "</table>\n",
       "</div>"
      ],
      "text/plain": [
       "   Flux (Jy)  Flux (jy) Std  East (arcsec)  RA (arcsec) Std  North (arcsec)  \\\n",
       "0   0.001584       0.000049       0.006914          0.00016        0.000308   \n",
       "\n",
       "   Dec (arcsec) Std  Shape  R.A. (deg)  Dec (deg)  Major FWHM (arcsec)  \\\n",
       "0           0.00013  gauss  284.379073  16.894302              0.01077   \n",
       "\n",
       "   Major Std  Minor FWHM (arcsec)  Minor Std  Theta (deg)  Theta Std  \\\n",
       "0    0.00025             0.004237    0.00064       -46.18        2.6   \n",
       "\n",
       "      Freq (Hz)  Spectral Index  Spec Indx Std  \n",
       "0  4.867750e+09             0.0            0.0  "
      ]
     },
     "execution_count": 52,
     "metadata": {},
     "output_type": "execute_result"
    }
   ],
   "source": [
    "modelfitb"
   ]
  },
  {
   "cell_type": "code",
   "execution_count": 41,
   "metadata": {},
   "outputs": [
    {
     "name": "stdout",
     "output_type": "stream",
     "text": [
      "5.2214433455497026e-08\n",
      "5.2214433455497026e-08\n",
      "3.0942157110381417e-25 0.04642525533890437\n",
      "0.47054263565891474\n",
      "0.6240310077519379\n",
      "0.040377905115997405 0.05343747470012169\n"
     ]
    }
   ],
   "source": [
    "dl = [6.07e-6, 8.05e-6];\n",
    "B_listb = B_field_er(((1.29e-4)*.1), modelfitb.iloc[0,0], modelfitb.iloc[0,9], modelfitb.iloc[0,15], error=True,  dl=(dl), dflux=modelfitb.iloc[0,1], dDiam=modelfitb.iloc[0,10]);"
   ]
  },
  {
   "cell_type": "code",
   "execution_count": 79,
   "metadata": {},
   "outputs": [
    {
     "data": {
      "text/html": [
       "<div>\n",
       "<style scoped>\n",
       "    .dataframe tbody tr th:only-of-type {\n",
       "        vertical-align: middle;\n",
       "    }\n",
       "\n",
       "    .dataframe tbody tr th {\n",
       "        vertical-align: top;\n",
       "    }\n",
       "\n",
       "    .dataframe thead th {\n",
       "        text-align: right;\n",
       "    }\n",
       "</style>\n",
       "<table border=\"1\" class=\"dataframe\">\n",
       "  <thead>\n",
       "    <tr style=\"text-align: right;\">\n",
       "      <th></th>\n",
       "      <th>B min</th>\n",
       "      <th>Bm lower er</th>\n",
       "      <th>Bm upper er</th>\n",
       "      <th>B eq</th>\n",
       "      <th>B eq lower er</th>\n",
       "      <th>B eq upper er</th>\n",
       "    </tr>\n",
       "  </thead>\n",
       "  <tbody>\n",
       "    <tr>\n",
       "      <th>0</th>\n",
       "      <td>0.081727</td>\n",
       "      <td>0.038643</td>\n",
       "      <td>0.051141</td>\n",
       "      <td>0.085397</td>\n",
       "      <td>0.040378</td>\n",
       "      <td>0.053437</td>\n",
       "    </tr>\n",
       "  </tbody>\n",
       "</table>\n",
       "</div>"
      ],
      "text/plain": [
       "      B min  Bm lower er  Bm upper er      B eq  B eq lower er  B eq upper er\n",
       "0  0.081727     0.038643     0.051141  0.085397       0.040378       0.053437"
      ]
     },
     "execution_count": 79,
     "metadata": {},
     "output_type": "execute_result"
    }
   ],
   "source": [
    "B_listb"
   ]
  },
  {
   "cell_type": "code",
   "execution_count": 84,
   "metadata": {},
   "outputs": [
    {
     "data": {
      "text/latex": [
       "$P_B\\,=\\,2.90E-05\\:\\frac{dyn}{cm^2}$"
      ],
      "text/plain": [
       "<IPython.core.display.Latex object>"
      ]
     },
     "metadata": {},
     "output_type": "display_data"
    },
    {
     "data": {
      "text/latex": [
       "$2.90e-05_{-2.74e-05}^{3.63e-05}\\;{\\frac{{dyn}}{{cm^2}}}$"
      ],
      "text/plain": [
       "<IPython.core.display.Latex object>"
      ]
     },
     "metadata": {},
     "output_type": "display_data"
    }
   ],
   "source": [
    "Pb_b = press_mag(B_eq_40b);\n",
    "_ = press_mag_er(B_listb.iloc[0,3], B_listb.iloc[0,4], B_listb.iloc[0,5]);"
   ]
  },
  {
   "cell_type": "code",
   "execution_count": null,
   "metadata": {},
   "outputs": [
    {
     "data": {
      "text/latex": [
       "$2.66e-05_{-2.51e-05}^{3.33e-05}\\;{\\frac{{dyn}}{{cm^2}}}$"
      ],
      "text/plain": [
       "<IPython.core.display.Latex object>"
      ]
     },
     "metadata": {},
     "output_type": "display_data"
    },
    {
     "name": "stdout",
     "output_type": "stream",
     "text": [
      "$2.66e-05_{-2.51e-05}^{3.33e-05}\\;{\\frac{{dyn}}{{cm^2}}}$\n"
     ]
    },
    {
     "data": {
      "text/latex": [
       "$2.90e-05_{-2.74e-05}^{3.63e-05}\\;{\\frac{{dyn}}{{cm^2}}}$"
      ],
      "text/plain": [
       "<IPython.core.display.Latex object>"
      ]
     },
     "metadata": {},
     "output_type": "display_data"
    },
    {
     "name": "stdout",
     "output_type": "stream",
     "text": [
      "$2.90e-05_{-2.74e-05}^{3.63e-05}\\;{\\frac{{dyn}}{{cm^2}}}$\n"
     ]
    }
   ],
   "source": [
    "Pb_minb, Pb_eqb = press_mage(B_listb);"
   ]
  },
  {
   "cell_type": "code",
   "execution_count": 65,
   "metadata": {},
   "outputs": [
    {
     "data": {
      "text/latex": [
       "$7.74e+06\\;K$"
      ],
      "text/plain": [
       "<IPython.core.display.Latex object>"
      ]
     },
     "metadata": {},
     "output_type": "display_data"
    },
    {
     "name": "stdout",
     "output_type": "stream",
     "text": [
      "1.21e+06\n"
     ]
    },
    {
     "data": {
      "text/latex": [
       "$7.74e+06\\pm\\;1.21e+06\\; K$"
      ],
      "text/plain": [
       "<IPython.core.display.Latex object>"
      ]
     },
     "metadata": {},
     "output_type": "display_data"
    }
   ],
   "source": [
    "T_b_b = brightness_temp(modelfitb.iloc[0,9], modelfitb.iloc[0,11], modelfitb.iloc[0,0], modelfitb.iloc[0,15]);\n",
    "T_b = brightness_temp_er(modelfitb.iloc[0,9], modelfitb.iloc[0,11], modelfitb.iloc[0,10], modelfitb.iloc[0,12], modelfitb.iloc[0,0], modelfitb.iloc[0,1], modelfitb.iloc[0,15]);"
   ]
  },
  {
   "cell_type": "code",
   "execution_count": 91,
   "metadata": {},
   "outputs": [
    {
     "data": {
      "text/latex": [
       "$7.74e+06\\pm\\;1.21e+06\\; K$"
      ],
      "text/plain": [
       "<IPython.core.display.Latex object>"
      ]
     },
     "metadata": {},
     "output_type": "display_data"
    },
    {
     "data": {
      "text/html": [
       "<div>\n",
       "<style scoped>\n",
       "    .dataframe tbody tr th:only-of-type {\n",
       "        vertical-align: middle;\n",
       "    }\n",
       "\n",
       "    .dataframe tbody tr th {\n",
       "        vertical-align: top;\n",
       "    }\n",
       "\n",
       "    .dataframe thead th {\n",
       "        text-align: right;\n",
       "    }\n",
       "</style>\n",
       "<table border=\"1\" class=\"dataframe\">\n",
       "  <thead>\n",
       "    <tr style=\"text-align: right;\">\n",
       "      <th></th>\n",
       "      <th>Tb</th>\n",
       "      <th>Tb er</th>\n",
       "    </tr>\n",
       "  </thead>\n",
       "  <tbody>\n",
       "    <tr>\n",
       "      <th>0</th>\n",
       "      <td>7.736032e+06</td>\n",
       "      <td>1.206236e+06</td>\n",
       "    </tr>\n",
       "  </tbody>\n",
       "</table>\n",
       "</div>"
      ],
      "text/plain": [
       "             Tb         Tb er\n",
       "0  7.736032e+06  1.206236e+06"
      ]
     },
     "execution_count": 91,
     "metadata": {},
     "output_type": "execute_result"
    }
   ],
   "source": [
    "brightness_temp_difmap(modelfitb)"
   ]
  },
  {
   "cell_type": "markdown",
   "metadata": {},
   "source": [
    "## Images"
   ]
  },
  {
   "cell_type": "markdown",
   "metadata": {},
   "source": [
    "### V1674HERB\n"
   ]
  },
  {
   "cell_type": "markdown",
   "metadata": {},
   "source": [
    "#### data insert"
   ]
  },
  {
   "cell_type": "code",
   "execution_count": null,
   "metadata": {},
   "outputs": [],
   "source": [
    "imgb_data, wcsb, imageb = load(\"./V1674HERIMG/021225/V1674HERB_252s.fits\");\n",
    "\n",
    "imgb_info, imgb_cnt = info(imageb);\n",
    "\n",
    "beamb = beam(imageb);\n",
    "\n",
    "cutb_data, cut_wcsb, cutb_center = cut(imgb_data, wcsb, imgb_cnt, center_pos=modelfitb_coords, box=(300,300));\n",
    "obstime_b = time.Time(imgb_info['obs_date'], scale='utc');\n",
    "obstime_b.format = ('jd');\n",
    "# obstime_b.scale = ('utc');\n",
    "\n",
    "t_b = obstime_b - t_0;\n",
    "# t_b = (imgb_info['obs_date']+str(t_b_delt.value))\n",
    "# t_b = time.Time()))\n",
    "print(t_b);\n",
    "shifted_gaia = gaia.apply_space_motion(new_obstime=time.Time((imgb_info['obs_date'])));\n",
    "# shifted_gaia = gaia.apply_space_motion(new_obstime=time.Time(\"J2000\"));\n",
    "gaia_time = time.Time('2457389.0', format='jd');\n",
    "# gaia_time.format = ('byear');\n",
    "\n",
    "\n",
    "# time_diff.format('jd');\n",
    "# shifted_gaia = shifted_gaia_tmp;\n",
    "# # .transform_to('fk5');\n",
    "# shifted_gaia = shifted_gaia_tmp.transform_to('fk5');\n",
    "\n",
    "kirill_gaia = SkyCoord('18:57:30.977059', '+16:53:39.48903', unit=(un.hourangle, un.degree));\n",
    "center = SkyCoord('18:57:30.9774409028 ', '16:53:39.4886141804 ', unit=(un.hourangle, un.degree));\n",
    "\n",
    "# kirill_gaia = kirill_gaia_tmp.transform_to('fk5');\n",
    "\n",
    "# print(shifted_gaia.separation(kirill_gaia).to(un.mas));\n",
    "# imgd_info['obs_date']\n",
    "\n",
    "\n",
    "time_diff_b = (obstime_b - gaia_time);\n",
    "time_diff_b = (time_diff_b.value*un.day).to(un.year).value;\n",
    "\n",
    "gaia_xerr = (ra_err**2+(rapm_err*time_diff_b)**2)**(1/2);\n",
    "gaia_yerr = (dec_err**2+(time_diff_b*rapm_err)**2)**(1/2);\n",
    "\n",
    "\n",
    "modelfitb_xerr = ((modelfitb.iloc[0,3]*un.arcsec).to(un.degree)).value;\n",
    "modelfitb_yerr = ((modelfitb.iloc[0,5]*un.arcsec).to(un.degree)).value;\n",
    "\n"
   ]
  },
  {
   "cell_type": "code",
   "execution_count": null,
   "metadata": {},
   "outputs": [],
   "source": [
    "model_b = SkyCoord(modelfitb.iloc[0,7], modelfitb.iloc[0,8], unit=(un.deg), frame='icrs');\n",
    "model_d = SkyCoord(modelfitd.iloc[0,7], modelfitd.iloc[0,8], unit=(un.deg), frame='icrs');\n",
    "model_f = SkyCoord(modelfitf.iloc[0,7], modelfitf.iloc[0,8], unit=(un.deg), frame='icrs');\n",
    "\n",
    "separation_mas(model_b, shifted_gaia, dist=6.3e3);\n",
    "separation_mas(model_d, shifted_gaia, dist=6.3e3);\n",
    "separation_mas(model_f, shifted_gaia, dist=6.3e3);"
   ]
  },
  {
   "cell_type": "markdown",
   "metadata": {},
   "source": [
    "#### Plots"
   ]
  },
  {
   "cell_type": "code",
   "execution_count": null,
   "metadata": {
    "tags": [
     "plot"
    ]
   },
   "outputs": [],
   "source": [
    "plt.style.use('./light.mplstyle');\n",
    "\n",
    "\n",
    "figb = plt.figure(figsize=(13,11));\n",
    "axb = figb.add_axes([0.2, 0.2, 0.8, 0.8], projection=cut_wcsb);\n",
    "ra_b = axb.coords[0];\n",
    "dec_b = axb.coords[1];\n",
    "\n",
    "\n",
    "axb.set_title(f'V1674HER \\n 20 Days After Eruption');\n",
    "# plt.title(f'V1674HER \\n 20 Days After Eruption', weight='bold');\n",
    "\n",
    "imgb = axb.imshow(cutb_data, cmap='inferno', vmin=(rms_list[0]*-2), vmax=imgb_info['max'], \n",
    "                 transform=axb.get_transform(cut_wcsb), origin='lower');\n",
    "\n",
    "scale_bar, sbartxt, sbar_txt_ra, sbar_txt_dec = sbar_plotter(cutb_center, beamb, 10, axb); #finetune_ra=-7\n",
    "beamb_patch = beam_plotter(beamb, cutb_center, axb);\n",
    "\n",
    "\n",
    "cbar_b = figb.colorbar(imgb, format=\"%4.2e\"); \n",
    "cbar_b.ax.set_ylabel('Jy/beam'); \n",
    "\n",
    "ra_b.set_axislabel('RA ');\n",
    "dec_b.set_axislabel('DEC ');\n",
    "\n",
    "ra_b.set_ticklabel('black'); #required\n",
    "dec_b.set_ticklabel('black');\n",
    "\n",
    "axb.add_patch(beamb_patch);\n",
    "axb.add_patch(scale_bar);\n",
    "\n",
    "# contour_levels_array = np.array((-1.5, 2, 5, 7, 9, 11));\n",
    "contour_levels_array = np.array((-1.5, 1, 3, 5, 7));\n",
    "contour_levels =rms_list[0]*contour_levels_array;\n",
    "axb.contour(cutb_data, levels=contour_levels , colors='w', alpha=0.6);\n",
    "\n",
    "\n",
    "axb.text(sbar_txt_ra, sbar_txt_dec, sbartxt, transform=axb.get_transform('fk5'), color='w');\n",
    "\n",
    "axb.errorbar(shifted_gaia.ra.degree, shifted_gaia.dec.degree, yerr=gaia_yerr, xerr=gaia_xerr, color='w', markeredgewidth=1.5, transform=axb.get_transform('fk5'),\n",
    "             marker='.', markersize=17, markeredgecolor='black', label='Gaia Position & Error');\n",
    "\n",
    "# axb.errorbar(modelfitb_coords.ra.degree, modelfitb_coords.dec.degree, yerr=modelfitb_yerr, xerr=modelfitb_xerr, transform=axb.get_transform('fk5'),\n",
    "#               color='purple', marker='.', markersize=1, label='Center of Image Fit');\n",
    "\n",
    "axb.plot(modelfitb_coords.ra.degree, modelfitb_coords.dec.degree, transform=axb.get_transform('fk5'),\n",
    "           color='purple', marker='*', label='Center of Image Fit', markersize=15);\n",
    "\n",
    "axb.legend();\n"
   ]
  },
  {
   "cell_type": "markdown",
   "metadata": {},
   "source": [
    "### V1674HERD"
   ]
  },
  {
   "cell_type": "code",
   "execution_count": null,
   "metadata": {},
   "outputs": [],
   "source": [
    "imgd_data, wcsd, imaged = load('./V1674HERIMG/021225/V1674HERD_252s.fits');\n",
    "\n",
    "imgd_info, imgd_cnt = info(imaged);\n",
    "\n",
    "beamd = beam(imaged);\n",
    "\n",
    "cutd_data, cut_wcsd, cutd_center = cut(imgd_data, wcsd, imgd_cnt, center_pos=modelfitb_coords, box=(300,300));\n",
    "\n",
    "obstime_d = time.Time(imgd_info['obs_date'], scale='utc');\n",
    "obstime_d.format = ('jd');\n",
    "# obstime_b.scale = ('utc');\n",
    "\n",
    "t_d = obstime_d - t_0;\n",
    "\n",
    "\n",
    "\n",
    "time_diff_d = (obstime_d - gaia_time);\n",
    "time_diff_d = (time_diff_d.value*un.day).to(un.year).value;\n",
    "\n",
    "gaia_xerr = (ra_err**2+(rapm_err*time_diff_d)**2)**(1/2);\n",
    "gaia_yerr = (dec_err**2+(time_diff_d*rapm_err)**2)**(1/2);\n",
    "t_d\n",
    "\n",
    "modelfitd_xerr = ((modelfitd.iloc[0,3]*un.arcsec).to(un.degree)).value;\n",
    "modelfitd_yerr = ((modelfitd.iloc[0,5]*un.arcsec).to(un.degree)).value;\n"
   ]
  },
  {
   "cell_type": "code",
   "execution_count": null,
   "metadata": {
    "tags": [
     "plot"
    ]
   },
   "outputs": [],
   "source": [
    "plt.style.use('./light.mplstyle');\n",
    "\n",
    "figd = plt.figure(figsize=(13,11));\n",
    "axd = figd.add_axes([0.2, 0.2, 0.8, 0.8], projection=cut_wcsb);\n",
    "ra_d = axd.coords[0];\n",
    "dec_d = axd.coords[1];\n",
    "# plt.rcParams.update({'font.weight': 'heavy'});\n",
    "\n",
    "axd.set_title(f'V1674HER \\n 23 Days After Eruption');\n",
    "\n",
    "imgb = axd.imshow(cutd_data, cmap='inferno', vmin=(rms_list[1]*-2), vmax=imgd_info['max'], \n",
    "                 transform=axd.get_transform(cut_wcsd), origin='lower');\n",
    "\n",
    "scale_bar, sbartxt, sbar_txt_ra, sbar_txt_dec = sbar_plotter(cutd_center, beamd, 10, axd, finetune_ra=2);\n",
    "beamb_patch = beam_plotter(beamd, cutd_center, axd);\n",
    "\n",
    "\n",
    "cbar_d = figd.colorbar(imgb, format=\"%4.2e\"); \n",
    "cbar_d.ax.set_ylabel('Jy/beam'); \n",
    "\n",
    "ra_d.set_axislabel('RA ');\n",
    "dec_d.set_axislabel('DEC ');\n",
    "\n",
    "ra_d.set_ticklabel('black'); #required\n",
    "dec_d.set_ticklabel('black');\n",
    "\n",
    "axd.add_patch(beamb_patch);\n",
    "axd.add_patch(scale_bar);\n",
    "\n",
    "# contour_levels_array = np.array((-1.5, 2, 5, 7, 9, 11));\n",
    "contour_levels_array = np.array((-1.5, 1, 3, 5, 7, 8));\n",
    "contour_levels = rms_list[1]*contour_levels_array;\n",
    "axd.contour(cutd_data, levels=contour_levels ,transform=axd.get_transform(cut_wcsd), colors='w', alpha=0.6);\n",
    "\n",
    "axd.text(sbar_txt_ra, sbar_txt_dec, sbartxt, transform=axd.get_transform('fk5'), color='w');\n",
    "\n",
    "axd.plot(modelfitd_coords.ra.degree, modelfitd_coords.dec.degree, transform=axd.get_transform('fk5'),\n",
    "           color='purple', marker='*', label='Center of Image Fit', markersize=15);\n",
    "\n",
    "# axd.errorbar(modelfitd_coords.ra.degree, modelfitd_coords.dec.degree, yerr=modelfitd_yerr, xerr=modelfitd_xerr, transform=axd.get_transform('fk5'),\n",
    "#               color='w', marker='.', label='Center of Image Fit');\n",
    "\n",
    "axd.errorbar(shifted_gaia.ra.degree, shifted_gaia.dec.degree, yerr=gaia_yerr, xerr=gaia_xerr, color='w', markeredgewidth=1.5,\n",
    "             marker='.', transform=axd.get_transform('fk5'), markersize=17, markeredgecolor='black', label='Gaia Position & Error', elinewidth=2);\n",
    "axd.legend();"
   ]
  },
  {
   "cell_type": "markdown",
   "metadata": {},
   "source": [
    "### V1674HERF"
   ]
  },
  {
   "cell_type": "code",
   "execution_count": null,
   "metadata": {},
   "outputs": [],
   "source": [
    "# imgf_data, wcsf, imagef = load('./V1674HERIMG/011525/V1674HERF_252.fits');\n",
    "imgf_data, wcsf, imagef = load('./V1674HERIMG/021225/V1674HERF_252st.fits');\n",
    "\n",
    "imgf_info, imgf_cnt = info(imagef);\n",
    "\n",
    "beamf = beam(imagef);\n",
    "\n",
    "cutf_data, cut_wcsf, cutf_center = cut(imgf_data, wcsf, imgf_cnt, center_pos=modelfitb_coords, box=(300,300));\n",
    "\n",
    "obstime_f = time.Time(imgf_info['obs_date'], scale='utc');\n",
    "obstime_f.format = ('jd');\n",
    "# obstime_b.scale = ('utc');\n",
    "\n",
    "t_f = obstime_f - t_0;\n",
    "\n",
    "\n",
    "time_diff_f = (obstime_f - gaia_time);\n",
    "time_diff_f = (time_diff_f.value*un.day).to(un.year).value;\n",
    "\n",
    "gaia_xerr = (ra_err**2+(rapm_err*time_diff_f)**2)**(1/2);\n",
    "gaia_yerr = (dec_err**2+(time_diff_f*rapm_err)**2)**(1/2);\n",
    "\n",
    "# modelfitf_xerr_1 = ((modelfitf.iloc[0,3]*un.arcsec).to(un.degree)).value;\n",
    "# modelfitf_yerr_1 = ((modelfitf.iloc[0,5]*un.arcsec).to(un.degree)).value;\n",
    "# modelfitf_xerr_2 = ((modelfitf.iloc[1,3]*un.arcsec).to(un.degree)).value;\n",
    "# modelfitf_yerr_2 = ((modelfitf.iloc[1,5]*un.arcsec).to(un.degree)).value;"
   ]
  },
  {
   "cell_type": "code",
   "execution_count": null,
   "metadata": {},
   "outputs": [],
   "source": [
    "# modelf_sep = modelfitf_coords_1.separation(modelfitf_coords_2).to(un.mas);\n",
    "# modelf_pa = modelfitf_coords_1.position_angle(modelfitf_coords_2).to(un.deg);\n",
    "\n",
    "# dra, ddec = modelfitf_coords_1.spherical_offsets_to(modelfitf_coords_2);\n",
    "\n",
    "# dra = (dra.to(un.arcsec))/2;\n",
    "# ddec = (ddec.to(un.arcsec))/2;\n",
    "\n",
    "# midpoint = modelfitf_coords_1.spherical_offsets_by(dra, ddec);\n",
    "# midpoint\n"
   ]
  },
  {
   "cell_type": "code",
   "execution_count": null,
   "metadata": {
    "tags": [
     "plot"
    ]
   },
   "outputs": [],
   "source": [
    "plt.style.use('./light.mplstyle');\n",
    "\n",
    "figf = plt.figure(figsize=(13,11));\n",
    "axf = figf.add_axes([0.2, 0.2, 0.8, 0.8], projection=cut_wcsb);\n",
    "rad_f = axf.coords[0];\n",
    "dec_f = axf.coords[1];\n",
    "\n",
    "\n",
    "axf.set_title(f'V1674HER \\n 34 Days After Eruption');\n",
    "\n",
    "imgb = axf.imshow(cutf_data, cmap='inferno', vmin=(-2*rms_list[2]), vmax=imgf_info['max'], \n",
    "                 transform=axf.get_transform(cut_wcsf), origin='lower'); #set min to -2 or so of rms\n",
    "\n",
    "scale_bar, sbartxt, sbar_txt_ra, sbar_txt_dec = sbar_plotter(cutf_center, beamf, 10, axf);\n",
    "beamf_patch = beam_plotter(beamf, cutf_center, axf, finetune_ra=7, finetune_dec=3);\n",
    "\n",
    "\n",
    "cbar_d = figf.colorbar(imgb, format=\"%4.2e\"); \n",
    "cbar_d.ax.set_ylabel('Jy/beam'); \n",
    "\n",
    "rad_f.set_axislabel('RA ');\n",
    "dec_f.set_axislabel('DEC ');\n",
    "\n",
    "rad_f.set_ticklabel('black'); #required\n",
    "dec_f.set_ticklabel('black');\n",
    "\n",
    "axf.add_patch(beamf_patch);\n",
    "axf.add_patch(scale_bar);\n",
    "\n",
    "# contour_levels_array = np.array((-1.5, 2, 5, 7, 9, 11));\n",
    "contour_levels_array = np.array((-1.5, 1, 2, 3, 5, 6));\n",
    "contour_levels = rms_list[2]*contour_levels_array;\n",
    "axf.contour(cutf_data, levels=contour_levels ,transform=axf.get_transform(cut_wcsf), colors='w', alpha=0.6);\n",
    "\n",
    "axf.text(sbar_txt_ra, sbar_txt_dec, sbartxt, transform=axf.get_transform('fk5'), color='w');\n",
    "v1674herf_coords = SkyCoord('18:57:30.9747036153', '16:53:39.4639746068', unit=(un.hourangle, un.deg), frame='icrs').transform_to(frame='fk5');\n",
    "\n",
    "axf.plot(modelfitf_coords_1.ra.degree, modelfitf_coords_1.dec.degree, transform=axf.get_transform('fk5'),\n",
    "           markersize='15', color='purple', marker='*', label='Model Fit Center');\n",
    "\n",
    "# axf.plot(modelfitf_coords_2.ra.degree, modelfitf_coords_2.dec.degree, transform=axf.get_transform('fk5'),\n",
    "#            markersize='15', color='purple', marker='*', label='Model Fit Center');\n",
    "\n",
    "# axf.errorbar(modelfitf_coords_1.ra.degree, modelfitf_coords_1.dec.degree, yerr=modelfitf_yerr_1, xerr=modelfitf_xerr_1, transform=axf.get_transform('fk5'),\n",
    "#               color='purple', marker='*', markersize=15, label='Center of Image Fit');\n",
    "\n",
    "# axf.errorbar(modelfitf_coords_2.ra.degree, modelfitf_coords_2.dec.degree, yerr=modelfitf_yerr_2, xerr=modelfitf_xerr_2, transform=axf.get_transform('fk5'),\n",
    "#               color='purple', marker='*', markersize=15, label='Center of Image Fit');\n",
    "\n",
    "axf.errorbar(shifted_gaia.ra.degree, shifted_gaia.dec.degree, yerr=gaia_yerr, xerr=gaia_xerr, color='w', markeredgewidth=1.5,\n",
    "             marker='.', transform=axf.get_transform('fk5'), markersize=17, markeredgecolor='black', label='Gaia Position & Error');\n",
    "# plt.savefig('./011525/V1674HERF.png');"
   ]
  },
  {
   "cell_type": "markdown",
   "metadata": {},
   "source": [
    "### V1674HERBDF"
   ]
  },
  {
   "cell_type": "code",
   "execution_count": null,
   "metadata": {},
   "outputs": [],
   "source": [
    "\n",
    "def get_angle_yaxis(line, center_value, beam_dict, size_mas, ax_name):\n",
    "    \"\"\"This finds the angle between the yaxis and the line plotted. It only uses the first \n",
    "    and last values of the line!!!\"\"\"\n",
    "    lxy = line.get_xydata();\n",
    "    # print(lxy[-1][0]);\n",
    " \n",
    "    #get data\n",
    "    slope = (float(lxy[-1][1] - lxy[0][1]) / float(lxy[-1][0] - lxy[0][0]));\n",
    "    # theta = abs(math.degrees(math.atan(slope))); # for angle w xaxis\n",
    "    theta = (90 -abs(math.degrees(math.atan(slope)))); #for angle w yaxis\n",
    "    print(theta);\n",
    "    size = scale(beam_dict, size_mas)\n",
    "    arc_patch = Arc(center_value, size, size, angle=0,theta1=theta, theta2=90, label=str(theta)+u\"\\u00b0\", transform=ax_name.get_transform('fk5'),\n",
    "                    color='purple', alpha=0.95, lw=5);\n",
    "    return arc_patch\n",
    "# x = [modelfitb_coords.ra.degree, modelfitd_coords.ra.degree, modelfitf_coords.ra.degree];\n",
    "# y = [modelfitb_coords.dec.degree, modelfitd_coords.dec.degree, modelfitf_coords.dec.degree];\n",
    "\n",
    "# lined = Line2D(x, y, transform=axb.get_transform('fk5'), linewidth=2, color='w', marker='.');\n",
    "\n",
    "def get_angle_line_yaxis(line, center_value, beam_dict, size_mas, ax_name):\n",
    "    slope, _ = np.polyfit(x,y,1);\n",
    "\n",
    "    theta_plt = (abs(math.degrees(math.atan(slope)))); #for angle w yaxis\n",
    "    theta = (90-theta_plt);\n",
    "    print(theta);\n",
    "    \n",
    "    size = scale(beam_dict, size_mas);\n",
    "    arc_patch = Arc(center_value, size, size, angle=0, theta1=theta_plt, theta2=90, label=str(theta)+u\"\\u00b0\", transform=ax_name.get_transform('fk5'),\n",
    "                    color='purple', alpha=0.95, lw=5);\n",
    "    return arc_patch\n"
   ]
  },
  {
   "cell_type": "code",
   "execution_count": null,
   "metadata": {},
   "outputs": [],
   "source": [
    "plt.style.use('./light.mplstyle');\n",
    "plt.rcParams.update({'font.weight': 'normal'});\n",
    "\n",
    "\n",
    "figb = plt.figure(figsize=(13,11));\n",
    "axb = figb.add_axes([0.2, 0.2, 0.8, 0.8], projection=cut_wcsb);\n",
    "ra_b = axb.coords[0];\n",
    "dec_b = axb.coords[1];\n",
    "\n",
    "\n",
    "axb.set_title(f'V1674HER \\n 20 Days After Eruption & Expansion');\n",
    "\n",
    "imgb = axb.imshow(cutb_data, cmap='inferno', vmin=rms_list[0]*-1.5, vmax=imgb_info['max'], \n",
    "                 transform=axb.get_transform(cut_wcsb), origin='lower');\n",
    "\n",
    "scale_bar, sbartxt, sbar_txt_ra, sbar_txt_dec = sbar_plotter(cutb_center, beamb, 10, axb, finetune_ra=-3); #finetune_ra=-7\n",
    "beamb_patch = beam_plotter(beamb, cutb_center, axb);\n",
    "\n",
    "\n",
    "cbar_b = figb.colorbar(imgb, format=\"%4.2e\"); \n",
    "cbar_b.ax.set_ylabel('Jy/beam'); \n",
    "\n",
    "ra_b.set_axislabel('RA ');\n",
    "dec_b.set_axislabel('DEC ');\n",
    "\n",
    "ra_b.set_ticklabel('black'); #required\n",
    "dec_b.set_ticklabel('black');\n",
    "\n",
    "axb.add_patch(beamb_patch);\n",
    "axb.add_patch(scale_bar);\n",
    "\n",
    "contour_levels_array = np.array((-1.5, 1, 3, 5, 7));\n",
    "contour_levels = rms_list[0]*contour_levels_array;\n",
    "axb.contour(cutb_data, levels=contour_levels , colors='w', alpha=0.6);\n",
    "\n",
    "axb.text(sbar_txt_ra, sbar_txt_dec, sbartxt, transform=axb.get_transform('fk5'), color='w');\n",
    "\n",
    "axb.errorbar(shifted_gaia.ra.degree, shifted_gaia.dec.degree, yerr=gaia_yerr, xerr=gaia_xerr, color='w', markeredgewidth=1.5,\n",
    "             marker='.', transform=axb.get_transform('fk5'), markersize=17, markeredgecolor='black', label='Gaia Position & Error');\n",
    "\n",
    "x = [modelfitb_coords.ra.degree, modelfitd_coords.ra.degree, modelfitf_coords_1.ra.degree];\n",
    "y = [modelfitb_coords.dec.degree, modelfitd_coords.dec.degree, modelfitf_coords_1.dec.degree];\n",
    "lined = Line2D(x, y, transform=axb.get_transform('fk5'), linewidth=2, color='w', marker='.');\n",
    "\n",
    "angle_arc = get_angle_line_yaxis(lined, [modelfitb_coords.ra.degree, modelfitb_coords.dec.degree], beamb, 5, axb);\n",
    "\n",
    "axb.add_line(lined);\n",
    "# axb.add_patch(angle_arc); #arc showing 45 deg angle\n",
    "\n",
    "# axb.plot([x[0],x[-1]], [y[0],y[-1]], transform=axb.get_transform('fk5'), color='white', lw=2, alpha=0.75);\n",
    "\n",
    "axb.plot(modelfitd_coords.ra.degree, modelfitd_coords.dec.degree, transform=axb.get_transform('fk5'), \n",
    "         marker='X', color='white', label='24 Days after Eruption',  markersize=15, markeredgewidth=1, markeredgecolor='black');\n",
    "\n",
    "axb.plot(modelfitf_coords_1.ra.degree, modelfitf_coords_1.dec.degree, transform=axb.get_transform('fk5'), markersize=15, marker='P', label='36 Days after Eruption',\n",
    "         color='white', markeredgewidth=1, markeredgecolor='black');\n",
    "\n",
    "# axb.plot(midpoint.ra.degree, midpoint.dec.degree, transform=axb.get_transform('fk5'),markersize=15, marker='P', label='34 Days after Eruption',\n",
    "#          color='white', markeredgewidth=1, markeredgecolor='black');\n",
    "\n",
    "# axb.plot(kirill_gaia.ra.degree, kirill_gaia.dec.degree, marker='*', transform=axb.get_transform('fk5'), markersize=19);\n",
    "\n",
    "# axb.plot(cent\n",
    "# er.ra.degree, center.dec.degree, marker='*', transform=axb.get_transform('fk5'), markersize=19);\n",
    "\n",
    "axb.plot(modelfitb_coords.ra.degree, modelfitb_coords.dec.degree, transform=axb.get_transform('fk5'),\n",
    "         markersize=15, color='purple', marker='*', label='Center of Image Fit');\n",
    "axb.legend();\n",
    "# print(modelfitb_coords.ra.degree, modelfitb_coords.dec.degree);\n"
   ]
  },
  {
   "cell_type": "code",
   "execution_count": null,
   "metadata": {},
   "outputs": [],
   "source": [
    "# print(f'{modelfitf.iloc[1,0]*1e3:.3E}')\n",
    "# print(f'{modelfitf.iloc[1,1]*1e6:.3E}')\n",
    "rms_list"
   ]
  },
  {
   "cell_type": "code",
   "execution_count": null,
   "metadata": {},
   "outputs": [],
   "source": [
    "modelfitb_coords.ra.hms"
   ]
  },
  {
   "cell_type": "code",
   "execution_count": null,
   "metadata": {},
   "outputs": [],
   "source": [
    "modelfitb"
   ]
  },
  {
   "cell_type": "markdown",
   "metadata": {},
   "source": [
    "## Check & Phase Reference Source"
   ]
  },
  {
   "cell_type": "code",
   "execution_count": null,
   "metadata": {},
   "outputs": [],
   "source": [
    "# # checksrcb, checksrcb_coords = difmap_model_read('./check/fitb.txt');\n",
    "# checkb_coords = SkyCoord('19:04:46.2574282526', '16:03:15.0463412082', unit=(un.hourangle, un.deg));\n",
    "# checkd_coords = SkyCoord('19:04:46.2574099526','16:03:15.0463069188', unit=(un.hourangle, un.deg));\n",
    "# checkf_coords = SkyCoord('19:04:46.2574062314','16:03:15.0463550053', unit=(un.hourangle, un.deg));\n",
    "# checkf_coords_icrs = SkyCoord('19:04:46.254662979', '16:03:15.0221210724', unit=(un.hourangle, un.deg), frame='icrs');\n",
    "# v1674herb_coords = SkyCoord('18:57:30.9747036153', '16:53:39.4639746068', unit=(un.hourangle, un.deg), frame='icrs');\n",
    "\n",
    "\n",
    "\n",
    "# checksched_coords = SkyCoord('19:04:46.2573', '+16:03:15.046', unit=(un.hourangle, un.degree)); #1902+159\n",
    "# prsched_coords = SkyCoord('18:57:25.5956', '+16:24:55.841', unit=(un.hourangle, un.degree)); #1855+163\n",
    "# ffsched_coords = SkyCoord('17:51:32.8186', '+09:39:00.728', unit=(un.hourangle, un.deg)); #1749+096\n",
    "# v1674her_sched = SkyCoord('18:57:30.979', '+16:53:39.54', unit=(un.hourangle, un.deg));\n",
    "\n",
    "# checkcal_coords = SkyCoord('19:04:46.25735000', '+16:03:15.0459200', unit=(un.hourangle, un.deg)); #RFC\n",
    "# prcal_coords = SkyCoord(' 18:57:25.59555586 ', '+16:24:55.8404388', unit=(un.hourangle, un.degree));\n",
    "\n",
    "# sep_bd = (checkb_coords.separation(checkd_coords));\n",
    "# sep_df = (checkf_coords.separation(checkd_coords));\n",
    "# sep_bf = (checkb_coords.separation(checkf_coords));\n",
    "\n",
    "# sep_schedcal = (checksched_coords.separation(checkcal_coords)).to(un.mas);\n",
    "# sep_schedb = (checksched_coords.separation(checkb_coords)).to(un.mas);\n",
    "\n",
    "\n",
    "# print(sep_bd, sep_df, sep_bf);\n",
    "# print(sep_schedcal, sep_schedb);\n",
    "# print(checksched_coords.separation(checkf_coords_icrs).to(un.mas));\n",
    "# print(shifted_gaia.separation(modelfitb_coords));\n",
    "\n",
    "\n",
    "\n",
    "# dist = (6.3e3)*un.pc\n",
    "# dis_per = 3.8e3*un.pc;\n",
    "# dis_ner = 2.8e3*un.pc;\n",
    "# carta_icrs = SkyCoord('18:57:25.5928698300', '+16:24:55.8164494212', unit=(un.hourangle, un.deg), frame='icrs');\n",
    "# RCF_icrs = SkyCoord('18:57:25.59555586', '+16:24:55.8404388', unit=(un.hourangle, un.degree), frame='icrs');\n",
    "\n",
    "# diff = carta_icrs.separation(RCF_icrs).to(un.mas);\n",
    "# img_diff = shifted_gaia.separation(modelfitb_coords).to(un.mas);\n",
    "# D = np.tan(sep_bd.to(un.arcsec))*dist;\n",
    "\n",
    "# print(D.to(un.AU))\n",
    "# sep_s = (shifted_gaia.ra.degree - modelfitf_coords.ra.degree)**2 + ((shifted_gaia.dec.degree - modelfitf_coords.dec.degree)**2)\n",
    "# sep = (sep_s)**(1/2)\n",
    "# sep_mas = (sep*un.degree).to(un.mas)\n",
    "# print(sep_mas)"
   ]
  },
  {
   "cell_type": "markdown",
   "metadata": {},
   "source": [
    "## Magnetic Field"
   ]
  },
  {
   "cell_type": "code",
   "execution_count": null,
   "metadata": {},
   "outputs": [],
   "source": [
    "# modelfitb.iloc[0,1]\n",
    "# modelfitb\n",
    "B_eq_40b, B_min_40b = magnetic_field(MinorD_b, modelfitb.iloc[0,0], modelfitb.iloc[0,9], modelfitb.iloc[0,15]);\n",
    "B_eq_100b, B_min_100b = magnetic_field(MinorD_b, modelfitb.iloc[0,0], modelfitb.iloc[0,9], modelfitb.iloc[0,15], K_o=100);\n",
    "B_eq_40d, B_min_40d = magnetic_field(MinorD_d, modelfitd.iloc[0,0], modelfitd.iloc[0,9], modelfitd.iloc[0,15]);\n",
    "B_eq_100d, B_min_100d = magnetic_field(MinorD_d, modelfitd.iloc[0,0], modelfitd.iloc[0,9], modelfitd.iloc[0,15], K_o=100);\n",
    "B_eq_40f, B_min_40f = magnetic_field(MinorD_f, modelfitf.iloc[0,0], modelfitf.iloc[0,9], modelfitf.iloc[0,15]);\n",
    "B_eq_100f, B_min_100f = magnetic_field(MinorD_f, modelfitf.iloc[0,0], modelfitf.iloc[0,9], modelfitf.iloc[0,15], K_o=100);\n",
    "# print(f'{B:.3E}');"
   ]
  },
  {
   "cell_type": "code",
   "execution_count": 129,
   "metadata": {},
   "outputs": [
    {
     "data": {
      "text/html": [
       "<div>\n",
       "<style scoped>\n",
       "    .dataframe tbody tr th:only-of-type {\n",
       "        vertical-align: middle;\n",
       "    }\n",
       "\n",
       "    .dataframe tbody tr th {\n",
       "        vertical-align: top;\n",
       "    }\n",
       "\n",
       "    .dataframe thead th {\n",
       "        text-align: right;\n",
       "    }\n",
       "</style>\n",
       "<table border=\"1\" class=\"dataframe\">\n",
       "  <thead>\n",
       "    <tr style=\"text-align: right;\">\n",
       "      <th></th>\n",
       "      <th>Flux (Jy)</th>\n",
       "      <th>Flux (jy) Std</th>\n",
       "      <th>East (arcsec)</th>\n",
       "      <th>RA (arcsec) Std</th>\n",
       "      <th>North (arcsec)</th>\n",
       "      <th>Dec (arcsec) Std</th>\n",
       "      <th>Shape</th>\n",
       "      <th>R.A. (deg)</th>\n",
       "      <th>Dec (deg)</th>\n",
       "      <th>Major FWHM (arcsec)</th>\n",
       "      <th>Major Std</th>\n",
       "      <th>Minor FWHM (arcsec)</th>\n",
       "      <th>Minor Std</th>\n",
       "      <th>Theta (deg)</th>\n",
       "      <th>Theta Std</th>\n",
       "      <th>Freq (Hz)</th>\n",
       "      <th>Spectral Index</th>\n",
       "      <th>Spec Indx Std</th>\n",
       "    </tr>\n",
       "  </thead>\n",
       "  <tbody>\n",
       "    <tr>\n",
       "      <th>0</th>\n",
       "      <td>0.001584</td>\n",
       "      <td>0.000049</td>\n",
       "      <td>0.006914</td>\n",
       "      <td>0.00016</td>\n",
       "      <td>0.000308</td>\n",
       "      <td>0.00013</td>\n",
       "      <td>gauss</td>\n",
       "      <td>284.379073</td>\n",
       "      <td>16.894302</td>\n",
       "      <td>0.01077</td>\n",
       "      <td>0.00025</td>\n",
       "      <td>0.004237</td>\n",
       "      <td>0.00064</td>\n",
       "      <td>-46.18</td>\n",
       "      <td>2.6</td>\n",
       "      <td>4.867750e+09</td>\n",
       "      <td>0.0</td>\n",
       "      <td>0.0</td>\n",
       "    </tr>\n",
       "  </tbody>\n",
       "</table>\n",
       "</div>"
      ],
      "text/plain": [
       "   Flux (Jy)  Flux (jy) Std  East (arcsec)  RA (arcsec) Std  North (arcsec)  \\\n",
       "0   0.001584       0.000049       0.006914          0.00016        0.000308   \n",
       "\n",
       "   Dec (arcsec) Std  Shape  R.A. (deg)  Dec (deg)  Major FWHM (arcsec)  \\\n",
       "0           0.00013  gauss  284.379073  16.894302              0.01077   \n",
       "\n",
       "   Major Std  Minor FWHM (arcsec)  Minor Std  Theta (deg)  Theta Std  \\\n",
       "0    0.00025             0.004237    0.00064       -46.18        2.6   \n",
       "\n",
       "      Freq (Hz)  Spectral Index  Spec Indx Std  \n",
       "0  4.867750e+09             0.0            0.0  "
      ]
     },
     "execution_count": 129,
     "metadata": {},
     "output_type": "execute_result"
    }
   ],
   "source": [
    "modelfitb"
   ]
  },
  {
   "cell_type": "markdown",
   "metadata": {},
   "source": [
    "#### Pressure from B"
   ]
  },
  {
   "cell_type": "code",
   "execution_count": null,
   "metadata": {},
   "outputs": [],
   "source": [
    "print(\"Pressure assuming K_0=40:\");\n",
    "Pb_b = press_mag(B_eq_40b);\n",
    "Pb_d = press_mag(B_eq_40d);\n",
    "Pb_f = press_mag(B_eq_40f);\n",
    "# print(Pb_b,Pb_d,Pb_f)\n",
    "print(\"  \");\n",
    "\n",
    "print(\"Pressure assuming K_0=100:\");\n",
    "Pb_b = press_mag(B_eq_100b);\n",
    "Pb_d = press_mag(B_eq_100d);\n",
    "Pb_f = press_mag(B_eq_100f);\n",
    "# print(Pb_b,Pb_d,Pb_f)\n",
    "# print(\"\");\n",
    "# B = 0.03*(1+100)**((2/7));\n",
    "\n",
    "# Pb = press_mag(B)#2.7e-5"
   ]
  },
  {
   "cell_type": "markdown",
   "metadata": {},
   "source": [
    "## Velocity"
   ]
  },
  {
   "cell_type": "code",
   "execution_count": null,
   "metadata": {},
   "outputs": [],
   "source": [
    "dist_bd = (modelfitb_coords.separation(modelfitf_coords_1)).to(un.arcsec);\n",
    "size_bd, _ = angular_size(6.3e3, dist_bd.value);\n",
    "dist_df = (modelfitd_coords.separation(modelfitf_coords_1)).to(un.arcsec);\n",
    "size_df, _ = angular_size(6.3e3, dist_df.value);\n",
    "\n",
    "vel_bd = (size_bd/((34-20)*un.day)).to(un.km/un.s);#.to(un.mas/un.day)\n",
    "vel_df = (size_df/((36-24)*un.day)).to(un.km/un.s);\n",
    "#total average velocity\n",
    "\n",
    "print(f'{vel_bd:.2E}');\n",
    "# print(vel_bd);\n",
    "size_bd.to(un.AU)"
   ]
  },
  {
   "cell_type": "code",
   "execution_count": null,
   "metadata": {},
   "outputs": [],
   "source": [
    "c = imgb_info['rms']*1e6\n",
    "d = imgb_info['max']*1e6\n",
    "a = (modelfitf.iloc[0,11]*un.arcsec).to(un.mas);\n",
    "b = (modelfitf.iloc[0,9]*un.arcsec).to(un.mas);"
   ]
  },
  {
   "cell_type": "code",
   "execution_count": null,
   "metadata": {},
   "outputs": [],
   "source": [
    "a = (beamf['b_major']*un.degree).to(un.mas)\n",
    "b = (beamf['b_minor']*un.degree).to(un.mas)\n",
    "\n",
    "print(a,b)\n",
    "# modelfitb"
   ]
  },
  {
   "cell_type": "markdown",
   "metadata": {},
   "source": [
    "# Brightness Temperature"
   ]
  },
  {
   "cell_type": "code",
   "execution_count": null,
   "metadata": {},
   "outputs": [],
   "source": [
    "T_b = brightness_temp(modelfitb.iloc[0,9], modelfitb.iloc[0,11], modelfitb.iloc[0,0], modelfitb.iloc[0,15]);\n",
    "T_d = brightness_temp(modelfitd.iloc[0,9], modelfitd.iloc[0,11], modelfitd.iloc[0,0], modelfitd.iloc[0,15]);\n",
    "T_f = brightness_temp(modelfitf.iloc[0,9], modelfitf.iloc[0,11], modelfitf.iloc[0,0], modelfitf.iloc[0,15]);"
   ]
  },
  {
   "cell_type": "markdown",
   "metadata": {},
   "source": [
    "# Opacity "
   ]
  },
  {
   "cell_type": "code",
   "execution_count": 92,
   "metadata": {},
   "outputs": [
    {
     "data": {
      "text/latex": [
       "$\\displaystyle 1.295E-04\\,pc;\\;\\;\\;\\;2.670E+01\\,AU$"
      ],
      "text/plain": [
       "<IPython.core.display.Math object>"
      ]
     },
     "metadata": {},
     "output_type": "display_data"
    }
   ],
   "source": [
    "MinorD_b, MinorD_AU_b = angular_size(modelfitb.iloc[0,11], 6.3e3)"
   ]
  },
  {
   "cell_type": "code",
   "execution_count": 98,
   "metadata": {},
   "outputs": [
    {
     "data": {
      "text/latex": [
       "$\\displaystyle \\tau\\,=\\,\\;9.00;\\;\\;\\;\\;EM\\,=\\,3.40E+07\\,\\,\\,\\frac{pc}{cm^{6}};\\;\\;\\;\\;n_e\\,=\\,1.62E+06\\;\\;\\;\\frac{1}{cm^3}$"
      ],
      "text/plain": [
       "<IPython.core.display.Math object>"
      ]
     },
     "metadata": {},
     "output_type": "display_data"
    }
   ],
   "source": [
    "EM_b = EM_FTR(rms_list[0], .148949, modelfitb.iloc[0,15]*1e-9, MinorD_b);"
   ]
  },
  {
   "cell_type": "code",
   "execution_count": 103,
   "metadata": {},
   "outputs": [
    {
     "name": "stdout",
     "output_type": "stream",
     "text": [
      "6.735041750380692e-06 M/m^2\n"
     ]
    },
    {
     "data": {
      "text/plain": [
       "np.float64(6.735041750380692e-06)"
      ]
     },
     "execution_count": 103,
     "metadata": {},
     "output_type": "execute_result"
    }
   ],
   "source": [
    "dyn_press(EM_b.iloc[0,2], 5000e3)"
   ]
  },
  {
   "cell_type": "code",
   "execution_count": null,
   "metadata": {},
   "outputs": [],
   "source": [
    "print(\"Emission Measure from integrated\");\n",
    "EM_b = EM_FTR(rms_list[0], modelfitb.iloc[0,0], modelfitb.iloc[0,15]*1e-9, MinorD_b);\n",
    "EM_d = EM_FTR(rms_list[1], modelfitd.iloc[0,0], modelfitb.iloc[0,15]*1e-9, MinorD_d);\n",
    "EM_f = EM_FTR(rms_list[2], modelfitf.iloc[0,0], modelfitb.iloc[0,15]*1e-9, MinorD_f);\n",
    "\n",
    "print(\"Emission Measure from peak flux\");\n",
    "EM_b = EM_FTR(rms_list[0], .148949, modelfitb.iloc[0,15]*1e-9, MinorD_b);\n",
    "EM_d = EM_FTR(rms_list[1], .114653, modelfitb.iloc[0,15]*1e-9, MinorD_d);\n",
    "EM_f = EM_FTR(rms_list[2], .0816364, modelfitb.iloc[0,15]*1e-9, MinorD_f); #3.8e8"
   ]
  },
  {
   "cell_type": "code",
   "execution_count": null,
   "metadata": {},
   "outputs": [],
   "source": [
    "M = (.14849/6.7)*(4.867750)**(-1.16)*(1)**(-0.46)*(6.3)**2\n",
    "M = M**(-0.8);\n",
    "M"
   ]
  },
  {
   "cell_type": "markdown",
   "metadata": {},
   "source": [
    "# Light Curve"
   ]
  },
  {
   "cell_type": "markdown",
   "metadata": {},
   "source": [
    "### Generic Plot"
   ]
  },
  {
   "cell_type": "code",
   "execution_count": null,
   "metadata": {},
   "outputs": [],
   "source": [
    "lc_df = pd.read_csv('./tables/V1674HERLC.csv',delimiter=',');\n",
    "\n",
    "VLBA = pd.DataFrame([[t_b.value, (modelfitb.iloc[0,0]*1e3)],[t_d.value,modelfitd.iloc[0,0]*1e3], [t_f.value, modelfitf.iloc[0,0]*1e3]],\n",
    "                    columns = ['Day',  'Flux']);\n",
    "\n",
    "bands = pd.DataFrame([['c', 5.1],['x', 7.0],['ku', 13.7],['k', 16.5],['ka', 31.1],['q', 34.9]],\n",
    "                     columns=['name','freq']);\n",
    "\n",
    "\n",
    "#do not try this at home\n",
    "#this for loop is bad form, but still works\n",
    "for i in range(0, len(bands)):\n",
    "    \n",
    "    name_i = bands.iloc[i,0];\n",
    "    freq_i = bands.iloc[i,1];\n",
    "    \n",
    "    var_name = 'lc_' + str(name_i);\n",
    "    globals()[var_name] = lc_df.loc[lc_df['Freq'] == freq_i];\n",
    "    \n",
    "    \n",
    "    var_i = eval(var_name); \n",
    "    #create non-detection dataframes\n",
    "    var_name2 = (var_name + '_nd');\n",
    "    globals()[var_name2] = var_i.loc[var_i['Unnamed: 4'] == 'non-detection'];\n",
    "    \n",
    "    #create detection dataframes\n",
    "    var_name3 = (var_name + '_d');\n",
    "    globals()[var_name3] = (var_i.loc[var_i['Unnamed: 4'] != 'non-detection']);\n",
    "    \n",
    "\n",
    "#now have three dataframes:\n",
    "    #lc_(band)_nd: which is all the ones which were indicated to be nondetections\n",
    "    #lc_(band)_d: which are the ones which were indicated to be anything other than nondetections\n",
    "    #lc_(band) which is a combination of the other two\n",
    "# VLBA.to_csv('./VLBA.csv'); #save to csv for sanity"
   ]
  },
  {
   "cell_type": "code",
   "execution_count": null,
   "metadata": {},
   "outputs": [],
   "source": [
    "plt.style.use('./presentation.mplstyle');\n",
    "fig, ax = plt.subplots(figsize=(17,11), facecolor='white');\n",
    "plt.rcParams.update({'lines.markersize': 15});\n",
    "\n",
    "\n",
    "\n",
    "\n",
    "line_c, = ax.plot(lc_c_d['Day'], lc_c_d['Flux'], linestyle='dashed' , marker='.', color='indigo');\n",
    "line_x, = ax.plot(lc_x_d['Day'], lc_x_d['Flux'], linestyle='dashed',  marker='.' , color='steelblue');\n",
    "line_ku, = ax.plot(lc_ku_d['Day'], lc_ku_d['Flux'],linestyle='dashed', marker='.' , color='olive');\n",
    "line_k, = ax.plot(lc_k_d['Day'], lc_k_d['Flux'], linestyle='dashed', marker='.' , color='darkorange');\n",
    "line_q, = ax.plot(lc_q_d['Day'], lc_q_d['Flux'], linestyle='dashed', marker='.' , color='firebrick');\n",
    "\n",
    "\n",
    "#ax.errorbar(lc_ka_d['Day'], lc_ka_d['Flux'], linestyle='dashed', linewidth=0.75,marker='.', color='firebrick', label='31 GHz');\n",
    "#non-detections\n",
    "line_c_nd, = ax.plot(lc_c_nd['Day'], lc_c_nd['Flux'], marker='X', linestyle='none',    color='indigo');\n",
    "line_x_nd, = ax.plot(lc_x_nd['Day'], lc_x_nd['Flux'], marker='X', linestyle='none',   color='steelblue');\n",
    "line_ku_nd, = ax.plot(lc_ku_nd['Day'], lc_ku_nd['Flux'], marker='X',linestyle='none',    color='olive');\n",
    "line_k_nd, = ax.plot(lc_k_nd['Day'], lc_k_nd['Flux'], marker='X', linestyle='none',   color='darkorange');\n",
    "#ax.scatter(lc_ka_nd['Day'], lc_ka_nd['Flux'], marker='+', color='firebrick');\n",
    "line_q_nd, = ax.plot(lc_q_nd['Day'], lc_q_nd['Flux'], marker='X',   linestyle='none', color='firebrick');\n",
    "\n",
    "# ax.errorbar()\n",
    "#VLBA\n",
    "line_VLBA, = ax. plot(VLBA['Day'], VLBA['Flux'], linestyle='dashed', marker='*', markersize=15, color='crimson');\n",
    "\n",
    "ax.set_xscale('log');\n",
    "ax.set_yscale('log');\n",
    "ax.yaxis.set_major_formatter(FormatStrFormatter('%.2f'));\n",
    "ax.xaxis.set_major_formatter(FormatStrFormatter('%.2f'));\n",
    "ax.tick_params(which='both', direction='in', length=13, width=2);\n",
    "ax.legend([line_c, line_x, line_ku, line_k, line_q, (line_c_nd, line_x_nd, line_ku_nd, line_k_nd, line_q_nd), line_VLBA],\n",
    "          ['4.7 GHz', '7.2 GHz', '13.5 GHz', '16.5 GHz', '35 GHz', 'non-detection','VLBA, 4.7GHz' ], handler_map={tuple: HandlerTuple(ndivide=None)});\n",
    "\n",
    "ax.grid(True, alpha=0.25);\n",
    "\n",
    "#ax.set_xlim(7,1000);\n",
    "ax.set_ylim(0.005, 10);\n",
    "ax.set_title('V1674Her Cute Radio Light Curve + VLBA');\n",
    "ax.set_ylabel('Flux Density (mJy)');\n",
    "ax.set_xlabel('Day After Detection');"
   ]
  },
  {
   "cell_type": "markdown",
   "metadata": {},
   "source": [
    "##### LC with error bars"
   ]
  },
  {
   "cell_type": "code",
   "execution_count": null,
   "metadata": {},
   "outputs": [],
   "source": [
    "plt.style.use('./light.mplstyle');\n",
    "fig, ax = plt.subplots(figsize=(17,9), facecolor='white');\n",
    "plt.rcParams.update({'lines.markersize': 9});\n",
    "\n",
    "\n",
    "\n",
    "\n",
    "line_c = ax.errorbar(lc_c_d['Day'], lc_c_d['Flux'], xerr=0, yerr=lc_c_d['Error'], linestyle='dashed' , marker='.', color='indigo');\n",
    "line_x = ax.errorbar(lc_x_d['Day'], lc_x_d['Flux'], xerr=0, yerr=lc_x_d['Error'], linestyle='dashed',  marker='.' , color='steelblue');\n",
    "line_ku = ax.errorbar(lc_ku_d['Day'], lc_ku_d['Flux'], xerr=0, yerr=lc_ku_d['Error'],linestyle='dashed', marker='.' , color='olive');\n",
    "line_k = ax.errorbar(lc_k_d['Day'], lc_k_d['Flux'],xerr=0, yerr=lc_k_d['Error'], linestyle='dashed', marker='.' , color='darkorange');\n",
    "line_q = ax.errorbar(lc_q_d['Day'], lc_q_d['Flux'], xerr=0, yerr=lc_q_d['Error'],linestyle='dashed', marker='.' , color='firebrick');\n",
    "\n",
    "\n",
    "#ax.errorbar(lc_ka_d['Day'], lc_ka_d['Flux'], linestyle='dashed', linewidth=0.75,marker='.', color='firebrick', label='31 GHz');\n",
    "#non-detections\n",
    "line_c_nd = ax.errorbar(lc_c_nd['Day'], lc_c_nd['Flux'], xerr=0, yerr=lc_c_nd['Error'], marker='X', linestyle='none',    color='indigo');\n",
    "line_x_nd = ax.errorbar(lc_x_nd['Day'], lc_x_nd['Flux'], xerr=0, yerr=lc_x_nd['Error'], marker='X', linestyle='none',   color='steelblue');\n",
    "line_ku_nd = ax.errorbar(lc_ku_nd['Day'], lc_ku_nd['Flux'], xerr=0, yerr=lc_ku_nd['Error'], marker='X',linestyle='none',    color='olive');\n",
    "line_k_nd = ax.errorbar(lc_k_nd['Day'], lc_k_nd['Flux'], xerr=0, yerr=lc_k_nd['Error'],marker='X', linestyle='none',   color='darkorange');\n",
    "#ax.scatter(lc_ka_nd['Day'], lc_ka_nd['Flux'], marker='+', color='firebrick');\n",
    "line_q_nd = ax.errorbar(lc_q_nd['Day'], lc_q_nd['Flux'],xerr=0, yerr=lc_q_nd['Error'], marker='X',   linestyle='none', color='firebrick');\n",
    "\n",
    "# ax.errorbar()\n",
    "#VLBA\n",
    "\n",
    "\n",
    "ax.set_xscale('log');\n",
    "ax.set_yscale('log');\n",
    "ax.yaxis.set_major_formatter(FormatStrFormatter('%.2f'));\n",
    "ax.xaxis.set_major_formatter(FormatStrFormatter('%.2f'));\n",
    "ax.tick_params(which='both', direction='in', length=13, width=2);\n",
    "ax.legend([line_c, line_x, line_ku, line_k, line_q, (line_c_nd, line_x_nd, line_ku_nd, line_k_nd, line_q_nd), line_VLBA],\n",
    "          ['4.7 GHz', '7.2 GHz', '13.5 GHz', '16.5 GHz', '35 GHz', 'non-detection','VLBA, 4.7GHz' ], handler_map={tuple: HandlerTuple(ndivide=None)});\n",
    "line_VLBA = ax.plot(VLBA['Day'], VLBA['Flux'], linestyle='dashed', marker='*', markersize=15, color='crimson');\n",
    "ax.grid(True, alpha=0.25);\n",
    "\n",
    "#ax.set_xlim(7,1000);\n",
    "ax.set_ylim(0.005, 10);\n",
    "ax.set_title('V1674Her Light Curve VLA + VLBA');\n",
    "ax.set_ylabel('Flux Density (mJy)');\n",
    "ax.set_xlabel('Day After Detection');"
   ]
  },
  {
   "cell_type": "markdown",
   "metadata": {},
   "source": [
    "### Plot MCMC fit w/Errors"
   ]
  },
  {
   "cell_type": "code",
   "execution_count": null,
   "metadata": {},
   "outputs": [],
   "source": [
    "def broken_powerlaw(t, t_b, beta_1, beta_2, F_c):\n",
    "    #Granot & sari 2002\n",
    "    s = 0.61;    \n",
    "    a = (t/t_b)**(-s*beta_1);\n",
    "    b = (t/t_b)**(-s*beta_2);\n",
    "\n",
    "    F_nu = F_c*(a+b)**(-1/s);\n",
    "    \n",
    "    return F_nu"
   ]
  },
  {
   "cell_type": "code",
   "execution_count": null,
   "metadata": {},
   "outputs": [],
   "source": [
    "VLBA = pd.read_csv('./tables/VLBA.csv', delimiter=',');\n",
    "\n",
    "#values from the ML fit\n",
    "t_bml, beta_1ml, beta_2ml, F_cml = [17.326622802099042, -1.5908098504656645, 9.325492883689463, 5.100127];\n",
    "\n",
    "t_line = np.linspace(10,500,10000);\n",
    "newy = broken_powerlaw(t_line, t_bml, beta_1ml, beta_2ml, F_cml);\n",
    "\n",
    "VLBA_pl_ML = broken_powerlaw(VLBA['Day'], t_bml, beta_1ml, beta_2ml, F_cml);\n",
    "\n",
    "#values from 2nd MCMC\n",
    "lower = np.array([0.56, 0.16, 1.23, 0.48]);\n",
    "upper = np.array([0.57, 0.16, 1.29, 0.47]);\n",
    "emcee_values = np.array([17.63, -1.61, 8.62, 5.08]);\n",
    "emcee_lower = emcee_values - lower;\n",
    "emcee_upper = emcee_values + upper;\n",
    "\n",
    "VLBA_pl_EMCEE = broken_powerlaw(VLBA['Day'], emcee_values[0], emcee_values[1], emcee_values[2], emcee_values[3]);"
   ]
  },
  {
   "cell_type": "code",
   "execution_count": null,
   "metadata": {},
   "outputs": [],
   "source": [
    "#read in data\n",
    "lc_c = pd.read_csv('./tables/lc_c.csv',delimiter=',');\n",
    "#VLBA = pd.read_csv('./VLBA.csv', delimiter=',');\n",
    "lc_c =  lc_c.iloc[:, 1:-1];\n",
    "x = np.linspace(lc_c.iloc[0,0], lc_c.iloc[-1,0], num=100);\n",
    "t = lc_c.iloc[:,0].to_numpy(dtype=np.float128);\n",
    "y = lc_c.iloc[:,2].to_numpy(dtype=np.float128);\n",
    "yerr = lc_c.iloc[:,3].to_numpy(dtype=np.float128);\n",
    "x0 = np.linspace(t[0], t[-1], num=100);\n",
    "\n",
    "t_line = np.linspace(10,500,10000);\n",
    "newy = broken_powerlaw(t_line, t_bml, beta_1ml, beta_2ml, F_cml);\n"
   ]
  },
  {
   "cell_type": "code",
   "execution_count": null,
   "metadata": {},
   "outputs": [],
   "source": [
    "plt.style.use('./light.mplstyle');\n",
    "fig, ax = plt.subplots(figsize=(17,11), facecolor='white');\n",
    "plt.rcParams.update({'lines.linewidth':2});\n",
    "\n",
    "# t_line = np.linspace(10,500,10000);\n",
    "\n",
    "\n",
    "\n",
    "\n",
    "plt.errorbar(t,y,yerr, xerr=0, marker='.', markersize=15, linewidth=2, color='purple', label='VLA 4.7GHz');\n",
    "\n",
    "ax.plot(t_line, newy, linestyle='dashed', color='steelblue',  label=\"ML broken powerlaw fit\", zorder=10); #(0, (5, 1,, 1, 1))\n",
    "\n",
    "\n",
    "\n",
    "lower_emcee = broken_powerlaw(t_line, emcee_lower[0],  emcee_lower[1],  emcee_lower[2], emcee_lower[3]);\n",
    "\n",
    "values_emcee = broken_powerlaw(t_line, emcee_values[0], emcee_values[1], emcee_values[2], emcee_values[3]);\n",
    "\n",
    "upper_emcee = broken_powerlaw(t_line, emcee_upper[0], emcee_upper[1], emcee_upper[2], emcee_upper[3]);\n",
    "\n",
    "ax.plot(t_line, lower_emcee, linestyle='solid', color='indigo',  label=\"EMCEE Lower Bounds\");\n",
    "\n",
    "ax.plot(t_line, values_emcee, linestyle='solid', color='mediumvioletred',  label=\"EMCEE\", zorder=15);\n",
    "\n",
    "ax.plot(t_line, upper_emcee, linestyle='solid', color='mediumorchid',  label=\"EMCEE Upper Bounds\");\n",
    "\n",
    "ax.fill_between(t_line, lower_emcee, upper_emcee, alpha=0.5, color='thistle', zorder=0);\n",
    "\n",
    "# ax.scatter(VLBA['Day'], VLBA_pl_ML, label='Estimate using ML', color='red', s=75, marker='X');\n",
    "ax.scatter(VLBA['Day'], VLBA_pl_EMCEE, label='Estimate using ML', color='mediumvioletred', s=150, marker='P', zorder=20);\n",
    "\n",
    "ax.plot(VLBA['Day'], VLBA['Flux'], linestyle='dashed', marker='*', markersize=15, color='crimson', label='VLBA 4.7GHz', zorder=5);\n",
    "\n",
    "\n",
    "#set labels and whatnot\n",
    "ax.set_title('V1674 Her Light Curve + Estimates');\n",
    "ax.set_ylabel('Flux Density (mJy)');\n",
    "ax.set_xlabel('Day After Detection');\n",
    "ax.grid(True, alpha=0.25);\n",
    "\n",
    "ax.set_xscale('log');\n",
    "ax.set_yscale('log')\n",
    "ax.yaxis.set_major_formatter(FormatStrFormatter('%.2f'));\n",
    "ax.xaxis.set_major_formatter(FormatStrFormatter('%.2f'));\n",
    "plt.legend();\n"
   ]
  }
 ],
 "metadata": {
  "kernelspec": {
   "display_name": "astro",
   "language": "python",
   "name": "python3"
  },
  "language_info": {
   "codemirror_mode": {
    "name": "ipython",
    "version": 3
   },
   "file_extension": ".py",
   "mimetype": "text/x-python",
   "name": "python",
   "nbconvert_exporter": "python",
   "pygments_lexer": "ipython3",
   "version": "3.12.9"
  }
 },
 "nbformat": 4,
 "nbformat_minor": 4
}
